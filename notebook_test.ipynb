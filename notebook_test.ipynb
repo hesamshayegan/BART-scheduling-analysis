{
 "cells": [
  {
   "cell_type": "code",
   "execution_count": 9,
   "id": "98db8558",
   "metadata": {},
   "outputs": [
    {
     "name": "stdout",
     "output_type": "stream",
     "text": [
      "Package                   Version\n",
      "------------------------- --------------\n",
      "anyio                     4.10.0\n",
      "appnope                   0.1.4\n",
      "argon2-cffi               25.1.0\n",
      "argon2-cffi-bindings      25.1.0\n",
      "arrow                     1.3.0\n",
      "asttokens                 3.0.0\n",
      "async-lru                 2.0.5\n",
      "attrs                     25.3.0\n",
      "babel                     2.17.0\n",
      "beautifulsoup4            4.13.5\n",
      "bleach                    6.2.0\n",
      "certifi                   2025.8.3\n",
      "cffi                      2.0.0\n",
      "charset-normalizer        3.4.3\n",
      "comm                      0.2.3\n",
      "debugpy                   1.8.16\n",
      "decorator                 5.2.1\n",
      "defusedxml                0.7.1\n",
      "duckdb                    1.2.1\n",
      "et_xmlfile                2.0.0\n",
      "executing                 2.2.1\n",
      "fastjsonschema            2.21.2\n",
      "fqdn                      1.5.1\n",
      "h11                       0.16.0\n",
      "httpcore                  1.0.9\n",
      "httpx                     0.28.1\n",
      "idna                      3.10\n",
      "ipykernel                 6.30.1\n",
      "ipython                   9.5.0\n",
      "ipython_pygments_lexers   1.1.1\n",
      "ipywidgets                8.1.7\n",
      "isoduration               20.11.0\n",
      "jedi                      0.19.2\n",
      "Jinja2                    3.1.6\n",
      "json5                     0.12.1\n",
      "jsonpointer               3.0.0\n",
      "jsonschema                4.25.1\n",
      "jsonschema-specifications 2025.9.1\n",
      "jupyter                   1.1.1\n",
      "jupyter_client            8.6.3\n",
      "jupyter-console           6.6.3\n",
      "jupyter_core              5.8.1\n",
      "jupyter-events            0.12.0\n",
      "jupyter-lsp               2.3.0\n",
      "jupyter_server            2.17.0\n",
      "jupyter_server_terminals  0.5.3\n",
      "jupyterlab                4.4.7\n",
      "jupyterlab_pygments       0.3.0\n",
      "jupyterlab_server         2.27.3\n",
      "jupyterlab_widgets        3.0.15\n",
      "lark                      1.2.2\n",
      "MarkupSafe                3.0.2\n",
      "matplotlib-inline         0.1.7\n",
      "mistune                   3.1.4\n",
      "narwhals                  2.5.0\n",
      "nbclient                  0.10.2\n",
      "nbconvert                 7.16.6\n",
      "nbformat                  5.10.4\n",
      "nest-asyncio              1.6.0\n",
      "notebook                  7.4.5\n",
      "notebook_shim             0.2.4\n",
      "numpy                     2.2.1\n",
      "openpyxl                  3.1.5\n",
      "packaging                 25.0\n",
      "pandas                    2.2.3\n",
      "pandocfilters             1.5.1\n",
      "parso                     0.8.5\n",
      "pexpect                   4.9.0\n",
      "pip                       24.0\n",
      "platformdirs              4.4.0\n",
      "plotly                    6.3.0\n",
      "prometheus_client         0.22.1\n",
      "prompt_toolkit            3.0.52\n",
      "psutil                    7.0.0\n",
      "ptyprocess                0.7.0\n",
      "pure_eval                 0.2.3\n",
      "pycparser                 2.23\n",
      "Pygments                  2.19.2\n",
      "python-dateutil           2.9.0.post0\n",
      "python-json-logger        3.3.0\n",
      "pytz                      2024.2\n",
      "PyYAML                    6.0.2\n",
      "pyzmq                     27.1.0\n",
      "referencing               0.36.2\n",
      "requests                  2.32.5\n",
      "rfc3339-validator         0.1.4\n",
      "rfc3986-validator         0.1.1\n",
      "rfc3987-syntax            1.1.0\n",
      "rpds-py                   0.27.1\n",
      "Send2Trash                1.8.3\n",
      "setuptools                80.9.0\n",
      "six                       1.17.0\n",
      "sniffio                   1.3.1\n",
      "soupsieve                 2.8\n",
      "stack-data                0.6.3\n",
      "terminado                 0.18.1\n",
      "tinycss2                  1.4.0\n",
      "tornado                   6.5.2\n",
      "traitlets                 5.14.3\n",
      "types-python-dateutil     2.9.0.20250822\n",
      "typing_extensions         4.15.0\n",
      "tzdata                    2024.2\n",
      "uri-template              1.3.0\n",
      "urllib3                   2.5.0\n",
      "wcwidth                   0.2.13\n",
      "webcolors                 24.11.1\n",
      "webencodings              0.5.1\n",
      "websocket-client          1.8.0\n",
      "widgetsnbextension        4.0.14\n",
      "\n",
      "\u001b[1m[\u001b[0m\u001b[34;49mnotice\u001b[0m\u001b[1;39;49m]\u001b[0m\u001b[39;49m A new release of pip is available: \u001b[0m\u001b[31;49m24.0\u001b[0m\u001b[39;49m -> \u001b[0m\u001b[32;49m25.2\u001b[0m\n",
      "\u001b[1m[\u001b[0m\u001b[34;49mnotice\u001b[0m\u001b[1;39;49m]\u001b[0m\u001b[39;49m To update, run: \u001b[0m\u001b[32;49mpip install --upgrade pip\u001b[0m\n"
     ]
    }
   ],
   "source": [
    "!pip list"
   ]
  },
  {
   "cell_type": "code",
   "execution_count": 10,
   "id": "4c0c208a",
   "metadata": {},
   "outputs": [
    {
     "name": "stdout",
     "output_type": "stream",
     "text": [
      "Looking in indexes: https://pypi.python.org/simple, https://pypi.apple.com/simple\n",
      "Requirement already satisfied: requests in /Users/hesam/Desktop/codes/data-prep-cleaning/venv/lib/python3.12/site-packages (2.32.5)\n",
      "Requirement already satisfied: charset_normalizer<4,>=2 in /Users/hesam/Desktop/codes/data-prep-cleaning/venv/lib/python3.12/site-packages (from requests) (3.4.3)\n",
      "Requirement already satisfied: idna<4,>=2.5 in /Users/hesam/Desktop/codes/data-prep-cleaning/venv/lib/python3.12/site-packages (from requests) (3.10)\n",
      "Requirement already satisfied: urllib3<3,>=1.21.1 in /Users/hesam/Desktop/codes/data-prep-cleaning/venv/lib/python3.12/site-packages (from requests) (2.5.0)\n",
      "Requirement already satisfied: certifi>=2017.4.17 in /Users/hesam/Desktop/codes/data-prep-cleaning/venv/lib/python3.12/site-packages (from requests) (2025.8.3)\n",
      "\n",
      "\u001b[1m[\u001b[0m\u001b[34;49mnotice\u001b[0m\u001b[1;39;49m]\u001b[0m\u001b[39;49m A new release of pip is available: \u001b[0m\u001b[31;49m24.0\u001b[0m\u001b[39;49m -> \u001b[0m\u001b[32;49m25.2\u001b[0m\n",
      "\u001b[1m[\u001b[0m\u001b[34;49mnotice\u001b[0m\u001b[1;39;49m]\u001b[0m\u001b[39;49m To update, run: \u001b[0m\u001b[32;49mpip install --upgrade pip\u001b[0m\n",
      "Looking in indexes: https://pypi.python.org/simple, https://pypi.apple.com/simple\n",
      "Requirement already satisfied: pandas in /Users/hesam/Desktop/codes/data-prep-cleaning/venv/lib/python3.12/site-packages (2.2.3)\n",
      "Requirement already satisfied: numpy>=1.26.0 in /Users/hesam/Desktop/codes/data-prep-cleaning/venv/lib/python3.12/site-packages (from pandas) (2.2.1)\n",
      "Requirement already satisfied: python-dateutil>=2.8.2 in /Users/hesam/Desktop/codes/data-prep-cleaning/venv/lib/python3.12/site-packages (from pandas) (2.9.0.post0)\n",
      "Requirement already satisfied: pytz>=2020.1 in /Users/hesam/Desktop/codes/data-prep-cleaning/venv/lib/python3.12/site-packages (from pandas) (2024.2)\n",
      "Requirement already satisfied: tzdata>=2022.7 in /Users/hesam/Desktop/codes/data-prep-cleaning/venv/lib/python3.12/site-packages (from pandas) (2024.2)\n",
      "Requirement already satisfied: six>=1.5 in /Users/hesam/Desktop/codes/data-prep-cleaning/venv/lib/python3.12/site-packages (from python-dateutil>=2.8.2->pandas) (1.17.0)\n",
      "\n",
      "\u001b[1m[\u001b[0m\u001b[34;49mnotice\u001b[0m\u001b[1;39;49m]\u001b[0m\u001b[39;49m A new release of pip is available: \u001b[0m\u001b[31;49m24.0\u001b[0m\u001b[39;49m -> \u001b[0m\u001b[32;49m25.2\u001b[0m\n",
      "\u001b[1m[\u001b[0m\u001b[34;49mnotice\u001b[0m\u001b[1;39;49m]\u001b[0m\u001b[39;49m To update, run: \u001b[0m\u001b[32;49mpip install --upgrade pip\u001b[0m\n",
      "Looking in indexes: https://pypi.python.org/simple, https://pypi.apple.com/simple\n",
      "Requirement already satisfied: plotly in /Users/hesam/Desktop/codes/data-prep-cleaning/venv/lib/python3.12/site-packages (6.3.0)\n",
      "Requirement already satisfied: narwhals>=1.15.1 in /Users/hesam/Desktop/codes/data-prep-cleaning/venv/lib/python3.12/site-packages (from plotly) (2.5.0)\n",
      "Requirement already satisfied: packaging in /Users/hesam/Desktop/codes/data-prep-cleaning/venv/lib/python3.12/site-packages (from plotly) (25.0)\n",
      "\n",
      "\u001b[1m[\u001b[0m\u001b[34;49mnotice\u001b[0m\u001b[1;39;49m]\u001b[0m\u001b[39;49m A new release of pip is available: \u001b[0m\u001b[31;49m24.0\u001b[0m\u001b[39;49m -> \u001b[0m\u001b[32;49m25.2\u001b[0m\n",
      "\u001b[1m[\u001b[0m\u001b[34;49mnotice\u001b[0m\u001b[1;39;49m]\u001b[0m\u001b[39;49m To update, run: \u001b[0m\u001b[32;49mpip install --upgrade pip\u001b[0m\n"
     ]
    }
   ],
   "source": [
    "!pip install requests\n",
    "!pip install pandas\n",
    "!pip install plotly"
   ]
  },
  {
   "cell_type": "code",
   "execution_count": 11,
   "id": "549d2710",
   "metadata": {},
   "outputs": [
    {
     "name": "stdout",
     "output_type": "stream",
     "text": [
      "https://api.bart.gov/api/sched.aspx?cmd=arrive&orig=ASHB&dest=CIVC&date=now&key=QV8D-PY9K-9LMT-DWEI&b=2&a=2&l=1&json=y\n",
      "Status Code: 200\n"
     ]
    }
   ],
   "source": [
    "import requests\n",
    "\n",
    "API_KEY = 'QV8D-PY9K-9LMT-DWEI'\n",
    "\n",
    "url = f\"https://api.bart.gov/api/sched.aspx?cmd=arrive&orig=ASHB&dest=CIVC&date=now&key={API_KEY}&b=2&a=2&l=1&json=y\"\n",
    "\n",
    "print(url)\n",
    "\n",
    "response = requests.get(url)\n",
    "\n",
    "print(f\"Status Code: {response.status_code}\")\n",
    "\n",
    "json_data = response.json()\n",
    "\n",
    "\n"
   ]
  },
  {
   "cell_type": "markdown",
   "id": "bb710693",
   "metadata": {},
   "source": [
    "#json to pandas dataframe"
   ]
  },
  {
   "cell_type": "code",
   "execution_count": 12,
   "id": "f9774658",
   "metadata": {},
   "outputs": [
    {
     "name": "stdout",
     "output_type": "stream",
     "text": [
      "(1, 12)\n"
     ]
    },
    {
     "data": {
      "text/html": [
       "<div>\n",
       "<style scoped>\n",
       "    .dataframe tbody tr th:only-of-type {\n",
       "        vertical-align: middle;\n",
       "    }\n",
       "\n",
       "    .dataframe tbody tr th {\n",
       "        vertical-align: top;\n",
       "    }\n",
       "\n",
       "    .dataframe thead th {\n",
       "        text-align: right;\n",
       "    }\n",
       "</style>\n",
       "<table border=\"1\" class=\"dataframe\">\n",
       "  <thead>\n",
       "    <tr style=\"text-align: right;\">\n",
       "      <th></th>\n",
       "      <th>?xml.@version</th>\n",
       "      <th>?xml.@encoding</th>\n",
       "      <th>root.@id</th>\n",
       "      <th>root.uri.#cdata-section</th>\n",
       "      <th>root.origin</th>\n",
       "      <th>root.destination</th>\n",
       "      <th>root.schedule.date</th>\n",
       "      <th>root.schedule.time</th>\n",
       "      <th>root.schedule.before</th>\n",
       "      <th>root.schedule.after</th>\n",
       "      <th>root.schedule.request.trip</th>\n",
       "      <th>root.message.legend</th>\n",
       "    </tr>\n",
       "  </thead>\n",
       "  <tbody>\n",
       "    <tr>\n",
       "      <th>0</th>\n",
       "      <td>1.0</td>\n",
       "      <td>utf-8</td>\n",
       "      <td>1</td>\n",
       "      <td>http://api.bart.gov/api/sched.aspx?cmd=arrive&amp;...</td>\n",
       "      <td>ASHB</td>\n",
       "      <td>CIVC</td>\n",
       "      <td>Sep 15, 2025</td>\n",
       "      <td>9:51 PM</td>\n",
       "      <td>2</td>\n",
       "      <td>2</td>\n",
       "      <td>[{'@origin': 'ASHB', '@destination': 'CIVC', '...</td>\n",
       "      <td>bikeflag: 1 = bikes allowed. 0 = no bikes allo...</td>\n",
       "    </tr>\n",
       "  </tbody>\n",
       "</table>\n",
       "</div>"
      ],
      "text/plain": [
       "  ?xml.@version ?xml.@encoding root.@id  \\\n",
       "0           1.0          utf-8        1   \n",
       "\n",
       "                             root.uri.#cdata-section root.origin  \\\n",
       "0  http://api.bart.gov/api/sched.aspx?cmd=arrive&...        ASHB   \n",
       "\n",
       "  root.destination root.schedule.date root.schedule.time root.schedule.before  \\\n",
       "0             CIVC       Sep 15, 2025            9:51 PM                    2   \n",
       "\n",
       "  root.schedule.after                         root.schedule.request.trip  \\\n",
       "0                   2  [{'@origin': 'ASHB', '@destination': 'CIVC', '...   \n",
       "\n",
       "                                 root.message.legend  \n",
       "0  bikeflag: 1 = bikes allowed. 0 = no bikes allo...  "
      ]
     },
     "execution_count": 12,
     "metadata": {},
     "output_type": "execute_result"
    }
   ],
   "source": [
    "import pandas as pd\n",
    "\n",
    "df = pd.json_normalize(json_data)\n",
    "\n",
    "print(df.shape)\n",
    "df\n"
   ]
  },
  {
   "cell_type": "code",
   "execution_count": 13,
   "id": "9bb741ce",
   "metadata": {},
   "outputs": [
    {
     "name": "stdout",
     "output_type": "stream",
     "text": [
      "{\n",
      "  \"?xml\": {\n",
      "    \"@version\": \"1.0\",\n",
      "    \"@encoding\": \"utf-8\"\n",
      "  },\n",
      "  \"root\": {\n",
      "    \"@id\": \"1\",\n",
      "    \"uri\": {\n",
      "      \"#cdata-section\": \"http://api.bart.gov/api/sched.aspx?cmd=arrive&orig=ASHB&dest=CIVC&date=now&b=2&a=2&l=1&json=y\"\n",
      "    },\n",
      "    \"origin\": \"ASHB\",\n",
      "    \"destination\": \"CIVC\",\n",
      "    \"schedule\": {\n",
      "      \"date\": \"Sep 15, 2025\",\n",
      "      \"time\": \"9:51 PM\",\n",
      "      \"before\": \"2\",\n",
      "      \"after\": \"2\",\n",
      "      \"request\": {\n",
      "        \"trip\": [\n",
      "          {\n",
      "            \"@origin\": \"ASHB\",\n",
      "            \"@destination\": \"CIVC\",\n",
      "            \"@fare\": \"4.80\",\n",
      "            \"@origTimeMin\": \"09:00 PM\",\n",
      "            \"@origTimeDate\": \"09/15/2025\",\n",
      "            \"@destTimeMin\": \"09:25 PM\",\n",
      "            \"@destTimeDate\": \"09/15/2025\",\n",
      "            \"@clipper\": \"1.80\",\n",
      "            \"@tripTime\": \"25\",\n",
      "            \"fares\": {\n",
      "              \"@level\": \"normal\",\n",
      "              \"fare\": [\n",
      "                {\n",
      "                  \"@amount\": \"4.80\",\n",
      "                  \"@class\": \"clipper\",\n",
      "                  \"@name\": \"Clipper\"\n",
      "                },\n",
      "                {\n",
      "                  \"@amount\": \"2.40\",\n",
      "                  \"@class\": \"start\",\n",
      "                  \"@name\": \"Clipper START\"\n",
      "                },\n",
      "                {\n",
      "                  \"@amount\": \"1.80\",\n",
      "                  \"@class\": \"rtcclipper\",\n",
      "                  \"@name\": \"Senior/Disabled Clipper\"\n",
      "                },\n",
      "                {\n",
      "                  \"@amount\": \"2.40\",\n",
      "                  \"@class\": \"student\",\n",
      "                  \"@name\": \"Youth Clipper\"\n",
      "                }\n",
      "              ]\n",
      "            },\n",
      "            \"leg\": [\n",
      "              {\n",
      "                \"@order\": \"1\",\n",
      "                \"@origin\": \"ASHB\",\n",
      "                \"@destination\": \"MCAR\",\n",
      "                \"@origTimeMin\": \"09:00 PM\",\n",
      "                \"@origTimeDate\": \"09/15/2025\",\n",
      "                \"@destTimeMin\": \"09:03 PM\",\n",
      "                \"@destTimeDate\": \"09/15/2025\",\n",
      "                \"@originPlatform\": \"PL 2\",\n",
      "                \"@destinationPlatform\": \"PL 2\",\n",
      "                \"@line\": \"ROUTE 4\",\n",
      "                \"@bikeflag\": \"1\",\n",
      "                \"@trainHeadStation\": \"OAK Airport / Berryessa/North San Jose\",\n",
      "                \"@load\": \"0\"\n",
      "              },\n",
      "              {\n",
      "                \"@order\": \"2\",\n",
      "                \"@origin\": \"MCAR\",\n",
      "                \"@destination\": \"CIVC\",\n",
      "                \"@origTimeMin\": \"09:04 PM\",\n",
      "                \"@origTimeDate\": \"09/15/2025\",\n",
      "                \"@destTimeMin\": \"09:25 PM\",\n",
      "                \"@destTimeDate\": \"09/15/2025\",\n",
      "                \"@originPlatform\": \"PL 4\",\n",
      "                \"@destinationPlatform\": \"PL 1\",\n",
      "                \"@line\": \"ROUTE 1\",\n",
      "                \"@bikeflag\": \"1\",\n",
      "                \"@trainHeadStation\": \"San Francisco Int'l Airport/Millbrae\",\n",
      "                \"@load\": \"0\"\n",
      "              }\n",
      "            ]\n",
      "          },\n",
      "          {\n",
      "            \"@origin\": \"ASHB\",\n",
      "            \"@destination\": \"CIVC\",\n",
      "            \"@fare\": \"4.80\",\n",
      "            \"@origTimeMin\": \"09:20 PM\",\n",
      "            \"@origTimeDate\": \"09/15/2025\",\n",
      "            \"@destTimeMin\": \"09:45 PM\",\n",
      "            \"@destTimeDate\": \"09/15/2025\",\n",
      "            \"@clipper\": \"1.80\",\n",
      "            \"@tripTime\": \"25\",\n",
      "            \"fares\": {\n",
      "              \"@level\": \"normal\",\n",
      "              \"fare\": [\n",
      "                {\n",
      "                  \"@amount\": \"4.80\",\n",
      "                  \"@class\": \"clipper\",\n",
      "                  \"@name\": \"Clipper\"\n",
      "                },\n",
      "                {\n",
      "                  \"@amount\": \"2.40\",\n",
      "                  \"@class\": \"start\",\n",
      "                  \"@name\": \"Clipper START\"\n",
      "                },\n",
      "                {\n",
      "                  \"@amount\": \"1.80\",\n",
      "                  \"@class\": \"rtcclipper\",\n",
      "                  \"@name\": \"Senior/Disabled Clipper\"\n",
      "                },\n",
      "                {\n",
      "                  \"@amount\": \"2.40\",\n",
      "                  \"@class\": \"student\",\n",
      "                  \"@name\": \"Youth Clipper\"\n",
      "                }\n",
      "              ]\n",
      "            },\n",
      "            \"leg\": [\n",
      "              {\n",
      "                \"@order\": \"1\",\n",
      "                \"@origin\": \"ASHB\",\n",
      "                \"@destination\": \"MCAR\",\n",
      "                \"@origTimeMin\": \"09:20 PM\",\n",
      "                \"@origTimeDate\": \"09/15/2025\",\n",
      "                \"@destTimeMin\": \"09:23 PM\",\n",
      "                \"@destTimeDate\": \"09/15/2025\",\n",
      "                \"@originPlatform\": \"PL 2\",\n",
      "                \"@destinationPlatform\": \"PL 2\",\n",
      "                \"@line\": \"ROUTE 4\",\n",
      "                \"@bikeflag\": \"1\",\n",
      "                \"@trainHeadStation\": \"OAK Airport / Berryessa/North San Jose\",\n",
      "                \"@load\": \"0\"\n",
      "              },\n",
      "              {\n",
      "                \"@order\": \"2\",\n",
      "                \"@origin\": \"MCAR\",\n",
      "                \"@destination\": \"CIVC\",\n",
      "                \"@origTimeMin\": \"09:24 PM\",\n",
      "                \"@origTimeDate\": \"09/15/2025\",\n",
      "                \"@destTimeMin\": \"09:45 PM\",\n",
      "                \"@destTimeDate\": \"09/15/2025\",\n",
      "                \"@originPlatform\": \"PL 4\",\n",
      "                \"@destinationPlatform\": \"PL 1\",\n",
      "                \"@line\": \"ROUTE 1\",\n",
      "                \"@bikeflag\": \"1\",\n",
      "                \"@trainHeadStation\": \"San Francisco Int'l Airport/Millbrae\",\n",
      "                \"@load\": \"0\"\n",
      "              }\n",
      "            ]\n",
      "          },\n",
      "          {\n",
      "            \"@origin\": \"ASHB\",\n",
      "            \"@destination\": \"CIVC\",\n",
      "            \"@fare\": \"4.80\",\n",
      "            \"@origTimeMin\": \"09:40 PM\",\n",
      "            \"@origTimeDate\": \"09/15/2025\",\n",
      "            \"@destTimeMin\": \"10:05 PM\",\n",
      "            \"@destTimeDate\": \"09/15/2025\",\n",
      "            \"@clipper\": \"1.80\",\n",
      "            \"@tripTime\": \"25\",\n",
      "            \"fares\": {\n",
      "              \"@level\": \"normal\",\n",
      "              \"fare\": [\n",
      "                {\n",
      "                  \"@amount\": \"4.80\",\n",
      "                  \"@class\": \"clipper\",\n",
      "                  \"@name\": \"Clipper\"\n",
      "                },\n",
      "                {\n",
      "                  \"@amount\": \"2.40\",\n",
      "                  \"@class\": \"start\",\n",
      "                  \"@name\": \"Clipper START\"\n",
      "                },\n",
      "                {\n",
      "                  \"@amount\": \"1.80\",\n",
      "                  \"@class\": \"rtcclipper\",\n",
      "                  \"@name\": \"Senior/Disabled Clipper\"\n",
      "                },\n",
      "                {\n",
      "                  \"@amount\": \"2.40\",\n",
      "                  \"@class\": \"student\",\n",
      "                  \"@name\": \"Youth Clipper\"\n",
      "                }\n",
      "              ]\n",
      "            },\n",
      "            \"leg\": [\n",
      "              {\n",
      "                \"@order\": \"1\",\n",
      "                \"@origin\": \"ASHB\",\n",
      "                \"@destination\": \"MCAR\",\n",
      "                \"@origTimeMin\": \"09:40 PM\",\n",
      "                \"@origTimeDate\": \"09/15/2025\",\n",
      "                \"@destTimeMin\": \"09:43 PM\",\n",
      "                \"@destTimeDate\": \"09/15/2025\",\n",
      "                \"@originPlatform\": \"PL 2\",\n",
      "                \"@destinationPlatform\": \"PL 2\",\n",
      "                \"@line\": \"ROUTE 4\",\n",
      "                \"@bikeflag\": \"1\",\n",
      "                \"@trainHeadStation\": \"OAK Airport / Berryessa/North San Jose\",\n",
      "                \"@load\": \"0\"\n",
      "              },\n",
      "              {\n",
      "                \"@order\": \"2\",\n",
      "                \"@origin\": \"MCAR\",\n",
      "                \"@destination\": \"CIVC\",\n",
      "                \"@origTimeMin\": \"09:44 PM\",\n",
      "                \"@origTimeDate\": \"09/15/2025\",\n",
      "                \"@destTimeMin\": \"10:05 PM\",\n",
      "                \"@destTimeDate\": \"09/15/2025\",\n",
      "                \"@originPlatform\": \"PL 4\",\n",
      "                \"@destinationPlatform\": \"PL 1\",\n",
      "                \"@line\": \"ROUTE 1\",\n",
      "                \"@bikeflag\": \"1\",\n",
      "                \"@trainHeadStation\": \"San Francisco Int'l Airport/Millbrae\",\n",
      "                \"@load\": \"0\"\n",
      "              }\n",
      "            ]\n",
      "          },\n",
      "          {\n",
      "            \"@origin\": \"ASHB\",\n",
      "            \"@destination\": \"CIVC\",\n",
      "            \"@fare\": \"4.80\",\n",
      "            \"@origTimeMin\": \"10:00 PM\",\n",
      "            \"@origTimeDate\": \"09/15/2025\",\n",
      "            \"@destTimeMin\": \"10:25 PM\",\n",
      "            \"@destTimeDate\": \"09/15/2025\",\n",
      "            \"@clipper\": \"1.80\",\n",
      "            \"@tripTime\": \"25\",\n",
      "            \"fares\": {\n",
      "              \"@level\": \"normal\",\n",
      "              \"fare\": [\n",
      "                {\n",
      "                  \"@amount\": \"4.80\",\n",
      "                  \"@class\": \"clipper\",\n",
      "                  \"@name\": \"Clipper\"\n",
      "                },\n",
      "                {\n",
      "                  \"@amount\": \"2.40\",\n",
      "                  \"@class\": \"start\",\n",
      "                  \"@name\": \"Clipper START\"\n",
      "                },\n",
      "                {\n",
      "                  \"@amount\": \"1.80\",\n",
      "                  \"@class\": \"rtcclipper\",\n",
      "                  \"@name\": \"Senior/Disabled Clipper\"\n",
      "                },\n",
      "                {\n",
      "                  \"@amount\": \"2.40\",\n",
      "                  \"@class\": \"student\",\n",
      "                  \"@name\": \"Youth Clipper\"\n",
      "                }\n",
      "              ]\n",
      "            },\n",
      "            \"leg\": [\n",
      "              {\n",
      "                \"@order\": \"1\",\n",
      "                \"@origin\": \"ASHB\",\n",
      "                \"@destination\": \"MCAR\",\n",
      "                \"@origTimeMin\": \"10:00 PM\",\n",
      "                \"@origTimeDate\": \"09/15/2025\",\n",
      "                \"@destTimeMin\": \"10:03 PM\",\n",
      "                \"@destTimeDate\": \"09/15/2025\",\n",
      "                \"@originPlatform\": \"PL 2\",\n",
      "                \"@destinationPlatform\": \"PL 2\",\n",
      "                \"@line\": \"ROUTE 4\",\n",
      "                \"@bikeflag\": \"1\",\n",
      "                \"@trainHeadStation\": \"OAK Airport / Berryessa/North San Jose\",\n",
      "                \"@load\": \"0\"\n",
      "              },\n",
      "              {\n",
      "                \"@order\": \"2\",\n",
      "                \"@origin\": \"MCAR\",\n",
      "                \"@destination\": \"CIVC\",\n",
      "                \"@origTimeMin\": \"10:04 PM\",\n",
      "                \"@origTimeDate\": \"09/15/2025\",\n",
      "                \"@destTimeMin\": \"10:25 PM\",\n",
      "                \"@destTimeDate\": \"09/15/2025\",\n",
      "                \"@originPlatform\": \"PL 4\",\n",
      "                \"@destinationPlatform\": \"PL 1\",\n",
      "                \"@line\": \"ROUTE 1\",\n",
      "                \"@bikeflag\": \"1\",\n",
      "                \"@trainHeadStation\": \"San Francisco Int'l Airport/Millbrae\",\n",
      "                \"@load\": \"0\"\n",
      "              }\n",
      "            ]\n",
      "          }\n",
      "        ]\n",
      "      }\n",
      "    },\n",
      "    \"message\": {\n",
      "      \"legend\": \"bikeflag: 1 = bikes allowed. 0 = no bikes allowed.\"\n",
      "    }\n",
      "  }\n",
      "}\n"
     ]
    }
   ],
   "source": [
    "import json\n",
    "\n",
    "print(json.dumps(json_data, indent=2))"
   ]
  },
  {
   "cell_type": "code",
   "execution_count": 14,
   "id": "34cfe199",
   "metadata": {},
   "outputs": [
    {
     "data": {
      "text/html": [
       "<div>\n",
       "<style scoped>\n",
       "    .dataframe tbody tr th:only-of-type {\n",
       "        vertical-align: middle;\n",
       "    }\n",
       "\n",
       "    .dataframe tbody tr th {\n",
       "        vertical-align: top;\n",
       "    }\n",
       "\n",
       "    .dataframe thead th {\n",
       "        text-align: right;\n",
       "    }\n",
       "</style>\n",
       "<table border=\"1\" class=\"dataframe\">\n",
       "  <thead>\n",
       "    <tr style=\"text-align: right;\">\n",
       "      <th></th>\n",
       "      <th>@origin</th>\n",
       "      <th>@destination</th>\n",
       "      <th>@fare</th>\n",
       "      <th>@origTimeMin</th>\n",
       "      <th>@origTimeDate</th>\n",
       "      <th>@destTimeMin</th>\n",
       "      <th>@destTimeDate</th>\n",
       "      <th>@clipper</th>\n",
       "      <th>@tripTime</th>\n",
       "      <th>leg</th>\n",
       "      <th>fares.@level</th>\n",
       "      <th>fares.fare</th>\n",
       "    </tr>\n",
       "  </thead>\n",
       "  <tbody>\n",
       "    <tr>\n",
       "      <th>0</th>\n",
       "      <td>ASHB</td>\n",
       "      <td>CIVC</td>\n",
       "      <td>4.80</td>\n",
       "      <td>09:00 PM</td>\n",
       "      <td>09/15/2025</td>\n",
       "      <td>09:25 PM</td>\n",
       "      <td>09/15/2025</td>\n",
       "      <td>1.80</td>\n",
       "      <td>25</td>\n",
       "      <td>[{'@order': '1', '@origin': 'ASHB', '@destinat...</td>\n",
       "      <td>normal</td>\n",
       "      <td>[{'@amount': '4.80', '@class': 'clipper', '@na...</td>\n",
       "    </tr>\n",
       "    <tr>\n",
       "      <th>1</th>\n",
       "      <td>ASHB</td>\n",
       "      <td>CIVC</td>\n",
       "      <td>4.80</td>\n",
       "      <td>09:20 PM</td>\n",
       "      <td>09/15/2025</td>\n",
       "      <td>09:45 PM</td>\n",
       "      <td>09/15/2025</td>\n",
       "      <td>1.80</td>\n",
       "      <td>25</td>\n",
       "      <td>[{'@order': '1', '@origin': 'ASHB', '@destinat...</td>\n",
       "      <td>normal</td>\n",
       "      <td>[{'@amount': '4.80', '@class': 'clipper', '@na...</td>\n",
       "    </tr>\n",
       "    <tr>\n",
       "      <th>2</th>\n",
       "      <td>ASHB</td>\n",
       "      <td>CIVC</td>\n",
       "      <td>4.80</td>\n",
       "      <td>09:40 PM</td>\n",
       "      <td>09/15/2025</td>\n",
       "      <td>10:05 PM</td>\n",
       "      <td>09/15/2025</td>\n",
       "      <td>1.80</td>\n",
       "      <td>25</td>\n",
       "      <td>[{'@order': '1', '@origin': 'ASHB', '@destinat...</td>\n",
       "      <td>normal</td>\n",
       "      <td>[{'@amount': '4.80', '@class': 'clipper', '@na...</td>\n",
       "    </tr>\n",
       "    <tr>\n",
       "      <th>3</th>\n",
       "      <td>ASHB</td>\n",
       "      <td>CIVC</td>\n",
       "      <td>4.80</td>\n",
       "      <td>10:00 PM</td>\n",
       "      <td>09/15/2025</td>\n",
       "      <td>10:25 PM</td>\n",
       "      <td>09/15/2025</td>\n",
       "      <td>1.80</td>\n",
       "      <td>25</td>\n",
       "      <td>[{'@order': '1', '@origin': 'ASHB', '@destinat...</td>\n",
       "      <td>normal</td>\n",
       "      <td>[{'@amount': '4.80', '@class': 'clipper', '@na...</td>\n",
       "    </tr>\n",
       "  </tbody>\n",
       "</table>\n",
       "</div>"
      ],
      "text/plain": [
       "  @origin @destination @fare @origTimeMin @origTimeDate @destTimeMin  \\\n",
       "0    ASHB         CIVC  4.80     09:00 PM    09/15/2025     09:25 PM   \n",
       "1    ASHB         CIVC  4.80     09:20 PM    09/15/2025     09:45 PM   \n",
       "2    ASHB         CIVC  4.80     09:40 PM    09/15/2025     10:05 PM   \n",
       "3    ASHB         CIVC  4.80     10:00 PM    09/15/2025     10:25 PM   \n",
       "\n",
       "  @destTimeDate @clipper @tripTime  \\\n",
       "0    09/15/2025     1.80        25   \n",
       "1    09/15/2025     1.80        25   \n",
       "2    09/15/2025     1.80        25   \n",
       "3    09/15/2025     1.80        25   \n",
       "\n",
       "                                                 leg fares.@level  \\\n",
       "0  [{'@order': '1', '@origin': 'ASHB', '@destinat...       normal   \n",
       "1  [{'@order': '1', '@origin': 'ASHB', '@destinat...       normal   \n",
       "2  [{'@order': '1', '@origin': 'ASHB', '@destinat...       normal   \n",
       "3  [{'@order': '1', '@origin': 'ASHB', '@destinat...       normal   \n",
       "\n",
       "                                          fares.fare  \n",
       "0  [{'@amount': '4.80', '@class': 'clipper', '@na...  \n",
       "1  [{'@amount': '4.80', '@class': 'clipper', '@na...  \n",
       "2  [{'@amount': '4.80', '@class': 'clipper', '@na...  \n",
       "3  [{'@amount': '4.80', '@class': 'clipper', '@na...  "
      ]
     },
     "execution_count": 14,
     "metadata": {},
     "output_type": "execute_result"
    }
   ],
   "source": [
    "trips = json_data['root']['schedule']['request']['trip']\n",
    "\n",
    "df_trips = pd.json_normalize(trips)\n",
    "df_trips\n"
   ]
  },
  {
   "cell_type": "code",
   "execution_count": 15,
   "id": "58077b6f",
   "metadata": {},
   "outputs": [
    {
     "data": {
      "text/html": [
       "<div>\n",
       "<style scoped>\n",
       "    .dataframe tbody tr th:only-of-type {\n",
       "        vertical-align: middle;\n",
       "    }\n",
       "\n",
       "    .dataframe tbody tr th {\n",
       "        vertical-align: top;\n",
       "    }\n",
       "\n",
       "    .dataframe thead th {\n",
       "        text-align: right;\n",
       "    }\n",
       "</style>\n",
       "<table border=\"1\" class=\"dataframe\">\n",
       "  <thead>\n",
       "    <tr style=\"text-align: right;\">\n",
       "      <th></th>\n",
       "      <th>@order</th>\n",
       "      <th>@origin</th>\n",
       "      <th>@destination</th>\n",
       "      <th>@origTimeMin</th>\n",
       "      <th>@origTimeDate</th>\n",
       "      <th>@destTimeMin</th>\n",
       "      <th>@destTimeDate</th>\n",
       "      <th>@originPlatform</th>\n",
       "      <th>@destinationPlatform</th>\n",
       "      <th>@line</th>\n",
       "      <th>@bikeflag</th>\n",
       "      <th>@trainHeadStation</th>\n",
       "      <th>@load</th>\n",
       "    </tr>\n",
       "  </thead>\n",
       "  <tbody>\n",
       "    <tr>\n",
       "      <th>0</th>\n",
       "      <td>1</td>\n",
       "      <td>ASHB</td>\n",
       "      <td>MCAR</td>\n",
       "      <td>09:00 PM</td>\n",
       "      <td>09/15/2025</td>\n",
       "      <td>09:03 PM</td>\n",
       "      <td>09/15/2025</td>\n",
       "      <td>PL 2</td>\n",
       "      <td>PL 2</td>\n",
       "      <td>ROUTE 4</td>\n",
       "      <td>1</td>\n",
       "      <td>OAK Airport / Berryessa/North San Jose</td>\n",
       "      <td>0</td>\n",
       "    </tr>\n",
       "    <tr>\n",
       "      <th>1</th>\n",
       "      <td>2</td>\n",
       "      <td>MCAR</td>\n",
       "      <td>CIVC</td>\n",
       "      <td>09:04 PM</td>\n",
       "      <td>09/15/2025</td>\n",
       "      <td>09:25 PM</td>\n",
       "      <td>09/15/2025</td>\n",
       "      <td>PL 4</td>\n",
       "      <td>PL 1</td>\n",
       "      <td>ROUTE 1</td>\n",
       "      <td>1</td>\n",
       "      <td>San Francisco Int'l Airport/Millbrae</td>\n",
       "      <td>0</td>\n",
       "    </tr>\n",
       "    <tr>\n",
       "      <th>2</th>\n",
       "      <td>1</td>\n",
       "      <td>ASHB</td>\n",
       "      <td>MCAR</td>\n",
       "      <td>09:20 PM</td>\n",
       "      <td>09/15/2025</td>\n",
       "      <td>09:23 PM</td>\n",
       "      <td>09/15/2025</td>\n",
       "      <td>PL 2</td>\n",
       "      <td>PL 2</td>\n",
       "      <td>ROUTE 4</td>\n",
       "      <td>1</td>\n",
       "      <td>OAK Airport / Berryessa/North San Jose</td>\n",
       "      <td>0</td>\n",
       "    </tr>\n",
       "    <tr>\n",
       "      <th>3</th>\n",
       "      <td>2</td>\n",
       "      <td>MCAR</td>\n",
       "      <td>CIVC</td>\n",
       "      <td>09:24 PM</td>\n",
       "      <td>09/15/2025</td>\n",
       "      <td>09:45 PM</td>\n",
       "      <td>09/15/2025</td>\n",
       "      <td>PL 4</td>\n",
       "      <td>PL 1</td>\n",
       "      <td>ROUTE 1</td>\n",
       "      <td>1</td>\n",
       "      <td>San Francisco Int'l Airport/Millbrae</td>\n",
       "      <td>0</td>\n",
       "    </tr>\n",
       "    <tr>\n",
       "      <th>4</th>\n",
       "      <td>1</td>\n",
       "      <td>ASHB</td>\n",
       "      <td>MCAR</td>\n",
       "      <td>09:40 PM</td>\n",
       "      <td>09/15/2025</td>\n",
       "      <td>09:43 PM</td>\n",
       "      <td>09/15/2025</td>\n",
       "      <td>PL 2</td>\n",
       "      <td>PL 2</td>\n",
       "      <td>ROUTE 4</td>\n",
       "      <td>1</td>\n",
       "      <td>OAK Airport / Berryessa/North San Jose</td>\n",
       "      <td>0</td>\n",
       "    </tr>\n",
       "    <tr>\n",
       "      <th>5</th>\n",
       "      <td>2</td>\n",
       "      <td>MCAR</td>\n",
       "      <td>CIVC</td>\n",
       "      <td>09:44 PM</td>\n",
       "      <td>09/15/2025</td>\n",
       "      <td>10:05 PM</td>\n",
       "      <td>09/15/2025</td>\n",
       "      <td>PL 4</td>\n",
       "      <td>PL 1</td>\n",
       "      <td>ROUTE 1</td>\n",
       "      <td>1</td>\n",
       "      <td>San Francisco Int'l Airport/Millbrae</td>\n",
       "      <td>0</td>\n",
       "    </tr>\n",
       "    <tr>\n",
       "      <th>6</th>\n",
       "      <td>1</td>\n",
       "      <td>ASHB</td>\n",
       "      <td>MCAR</td>\n",
       "      <td>10:00 PM</td>\n",
       "      <td>09/15/2025</td>\n",
       "      <td>10:03 PM</td>\n",
       "      <td>09/15/2025</td>\n",
       "      <td>PL 2</td>\n",
       "      <td>PL 2</td>\n",
       "      <td>ROUTE 4</td>\n",
       "      <td>1</td>\n",
       "      <td>OAK Airport / Berryessa/North San Jose</td>\n",
       "      <td>0</td>\n",
       "    </tr>\n",
       "    <tr>\n",
       "      <th>7</th>\n",
       "      <td>2</td>\n",
       "      <td>MCAR</td>\n",
       "      <td>CIVC</td>\n",
       "      <td>10:04 PM</td>\n",
       "      <td>09/15/2025</td>\n",
       "      <td>10:25 PM</td>\n",
       "      <td>09/15/2025</td>\n",
       "      <td>PL 4</td>\n",
       "      <td>PL 1</td>\n",
       "      <td>ROUTE 1</td>\n",
       "      <td>1</td>\n",
       "      <td>San Francisco Int'l Airport/Millbrae</td>\n",
       "      <td>0</td>\n",
       "    </tr>\n",
       "  </tbody>\n",
       "</table>\n",
       "</div>"
      ],
      "text/plain": [
       "  @order @origin @destination @origTimeMin @origTimeDate @destTimeMin  \\\n",
       "0      1    ASHB         MCAR     09:00 PM    09/15/2025     09:03 PM   \n",
       "1      2    MCAR         CIVC     09:04 PM    09/15/2025     09:25 PM   \n",
       "2      1    ASHB         MCAR     09:20 PM    09/15/2025     09:23 PM   \n",
       "3      2    MCAR         CIVC     09:24 PM    09/15/2025     09:45 PM   \n",
       "4      1    ASHB         MCAR     09:40 PM    09/15/2025     09:43 PM   \n",
       "5      2    MCAR         CIVC     09:44 PM    09/15/2025     10:05 PM   \n",
       "6      1    ASHB         MCAR     10:00 PM    09/15/2025     10:03 PM   \n",
       "7      2    MCAR         CIVC     10:04 PM    09/15/2025     10:25 PM   \n",
       "\n",
       "  @destTimeDate @originPlatform @destinationPlatform    @line @bikeflag  \\\n",
       "0    09/15/2025            PL 2                 PL 2  ROUTE 4         1   \n",
       "1    09/15/2025            PL 4                 PL 1  ROUTE 1         1   \n",
       "2    09/15/2025            PL 2                 PL 2  ROUTE 4         1   \n",
       "3    09/15/2025            PL 4                 PL 1  ROUTE 1         1   \n",
       "4    09/15/2025            PL 2                 PL 2  ROUTE 4         1   \n",
       "5    09/15/2025            PL 4                 PL 1  ROUTE 1         1   \n",
       "6    09/15/2025            PL 2                 PL 2  ROUTE 4         1   \n",
       "7    09/15/2025            PL 4                 PL 1  ROUTE 1         1   \n",
       "\n",
       "                        @trainHeadStation @load  \n",
       "0  OAK Airport / Berryessa/North San Jose     0  \n",
       "1    San Francisco Int'l Airport/Millbrae     0  \n",
       "2  OAK Airport / Berryessa/North San Jose     0  \n",
       "3    San Francisco Int'l Airport/Millbrae     0  \n",
       "4  OAK Airport / Berryessa/North San Jose     0  \n",
       "5    San Francisco Int'l Airport/Millbrae     0  \n",
       "6  OAK Airport / Berryessa/North San Jose     0  \n",
       "7    San Francisco Int'l Airport/Millbrae     0  "
      ]
     },
     "execution_count": 15,
     "metadata": {},
     "output_type": "execute_result"
    }
   ],
   "source": [
    "legs_df = pd.json_normalize(\n",
    "            trips,\n",
    "            record_path=['leg'],\n",
    ")\n",
    "\n",
    "legs_df\n"
   ]
  },
  {
   "cell_type": "code",
   "execution_count": 20,
   "id": "ac8589b8",
   "metadata": {},
   "outputs": [
    {
     "data": {
      "text/html": [
       "<div>\n",
       "<style scoped>\n",
       "    .dataframe tbody tr th:only-of-type {\n",
       "        vertical-align: middle;\n",
       "    }\n",
       "\n",
       "    .dataframe tbody tr th {\n",
       "        vertical-align: top;\n",
       "    }\n",
       "\n",
       "    .dataframe thead th {\n",
       "        text-align: right;\n",
       "    }\n",
       "</style>\n",
       "<table border=\"1\" class=\"dataframe\">\n",
       "  <thead>\n",
       "    <tr style=\"text-align: right;\">\n",
       "      <th></th>\n",
       "      <th>@order</th>\n",
       "      <th>@origin</th>\n",
       "      <th>@destination</th>\n",
       "      <th>@origTimeMin</th>\n",
       "      <th>@origTimeDate</th>\n",
       "      <th>@destTimeMin</th>\n",
       "      <th>@destTimeDate</th>\n",
       "      <th>@originPlatform</th>\n",
       "      <th>@destinationPlatform</th>\n",
       "      <th>@line</th>\n",
       "      <th>@bikeflag</th>\n",
       "      <th>@trainHeadStation</th>\n",
       "      <th>@load</th>\n",
       "      <th>duration</th>\n",
       "      <th>duration_min</th>\n",
       "      <th>trip_id</th>\n",
       "      <th>route_origin</th>\n",
       "      <th>route_destination</th>\n",
       "      <th>total_duration</th>\n",
       "    </tr>\n",
       "  </thead>\n",
       "  <tbody>\n",
       "    <tr>\n",
       "      <th>0</th>\n",
       "      <td>1</td>\n",
       "      <td>ASHB</td>\n",
       "      <td>MCAR</td>\n",
       "      <td>2025-09-15 21:00:00</td>\n",
       "      <td>09/15/2025</td>\n",
       "      <td>2025-09-15 21:03:00</td>\n",
       "      <td>09/15/2025</td>\n",
       "      <td>PL 2</td>\n",
       "      <td>PL 2</td>\n",
       "      <td>ROUTE 4</td>\n",
       "      <td>1</td>\n",
       "      <td>OAK Airport / Berryessa/North San Jose</td>\n",
       "      <td>0</td>\n",
       "      <td>0 days 00:03:00</td>\n",
       "      <td>3.0</td>\n",
       "      <td>1</td>\n",
       "      <td>ASHB</td>\n",
       "      <td>CIVC</td>\n",
       "      <td>24.0</td>\n",
       "    </tr>\n",
       "    <tr>\n",
       "      <th>1</th>\n",
       "      <td>2</td>\n",
       "      <td>MCAR</td>\n",
       "      <td>CIVC</td>\n",
       "      <td>2025-09-15 21:04:00</td>\n",
       "      <td>09/15/2025</td>\n",
       "      <td>2025-09-15 21:25:00</td>\n",
       "      <td>09/15/2025</td>\n",
       "      <td>PL 4</td>\n",
       "      <td>PL 1</td>\n",
       "      <td>ROUTE 1</td>\n",
       "      <td>1</td>\n",
       "      <td>San Francisco Int'l Airport/Millbrae</td>\n",
       "      <td>0</td>\n",
       "      <td>0 days 00:21:00</td>\n",
       "      <td>21.0</td>\n",
       "      <td>1</td>\n",
       "      <td>ASHB</td>\n",
       "      <td>CIVC</td>\n",
       "      <td>24.0</td>\n",
       "    </tr>\n",
       "    <tr>\n",
       "      <th>2</th>\n",
       "      <td>1</td>\n",
       "      <td>ASHB</td>\n",
       "      <td>MCAR</td>\n",
       "      <td>2025-09-15 21:20:00</td>\n",
       "      <td>09/15/2025</td>\n",
       "      <td>2025-09-15 21:23:00</td>\n",
       "      <td>09/15/2025</td>\n",
       "      <td>PL 2</td>\n",
       "      <td>PL 2</td>\n",
       "      <td>ROUTE 4</td>\n",
       "      <td>1</td>\n",
       "      <td>OAK Airport / Berryessa/North San Jose</td>\n",
       "      <td>0</td>\n",
       "      <td>0 days 00:03:00</td>\n",
       "      <td>3.0</td>\n",
       "      <td>2</td>\n",
       "      <td>ASHB</td>\n",
       "      <td>CIVC</td>\n",
       "      <td>24.0</td>\n",
       "    </tr>\n",
       "    <tr>\n",
       "      <th>3</th>\n",
       "      <td>2</td>\n",
       "      <td>MCAR</td>\n",
       "      <td>CIVC</td>\n",
       "      <td>2025-09-15 21:24:00</td>\n",
       "      <td>09/15/2025</td>\n",
       "      <td>2025-09-15 21:45:00</td>\n",
       "      <td>09/15/2025</td>\n",
       "      <td>PL 4</td>\n",
       "      <td>PL 1</td>\n",
       "      <td>ROUTE 1</td>\n",
       "      <td>1</td>\n",
       "      <td>San Francisco Int'l Airport/Millbrae</td>\n",
       "      <td>0</td>\n",
       "      <td>0 days 00:21:00</td>\n",
       "      <td>21.0</td>\n",
       "      <td>2</td>\n",
       "      <td>ASHB</td>\n",
       "      <td>CIVC</td>\n",
       "      <td>24.0</td>\n",
       "    </tr>\n",
       "    <tr>\n",
       "      <th>4</th>\n",
       "      <td>1</td>\n",
       "      <td>ASHB</td>\n",
       "      <td>MCAR</td>\n",
       "      <td>2025-09-15 21:40:00</td>\n",
       "      <td>09/15/2025</td>\n",
       "      <td>2025-09-15 21:43:00</td>\n",
       "      <td>09/15/2025</td>\n",
       "      <td>PL 2</td>\n",
       "      <td>PL 2</td>\n",
       "      <td>ROUTE 4</td>\n",
       "      <td>1</td>\n",
       "      <td>OAK Airport / Berryessa/North San Jose</td>\n",
       "      <td>0</td>\n",
       "      <td>0 days 00:03:00</td>\n",
       "      <td>3.0</td>\n",
       "      <td>3</td>\n",
       "      <td>ASHB</td>\n",
       "      <td>CIVC</td>\n",
       "      <td>24.0</td>\n",
       "    </tr>\n",
       "    <tr>\n",
       "      <th>5</th>\n",
       "      <td>2</td>\n",
       "      <td>MCAR</td>\n",
       "      <td>CIVC</td>\n",
       "      <td>2025-09-15 21:44:00</td>\n",
       "      <td>09/15/2025</td>\n",
       "      <td>2025-09-15 22:05:00</td>\n",
       "      <td>09/15/2025</td>\n",
       "      <td>PL 4</td>\n",
       "      <td>PL 1</td>\n",
       "      <td>ROUTE 1</td>\n",
       "      <td>1</td>\n",
       "      <td>San Francisco Int'l Airport/Millbrae</td>\n",
       "      <td>0</td>\n",
       "      <td>0 days 00:21:00</td>\n",
       "      <td>21.0</td>\n",
       "      <td>3</td>\n",
       "      <td>ASHB</td>\n",
       "      <td>CIVC</td>\n",
       "      <td>24.0</td>\n",
       "    </tr>\n",
       "    <tr>\n",
       "      <th>6</th>\n",
       "      <td>1</td>\n",
       "      <td>ASHB</td>\n",
       "      <td>MCAR</td>\n",
       "      <td>2025-09-15 22:00:00</td>\n",
       "      <td>09/15/2025</td>\n",
       "      <td>2025-09-15 22:03:00</td>\n",
       "      <td>09/15/2025</td>\n",
       "      <td>PL 2</td>\n",
       "      <td>PL 2</td>\n",
       "      <td>ROUTE 4</td>\n",
       "      <td>1</td>\n",
       "      <td>OAK Airport / Berryessa/North San Jose</td>\n",
       "      <td>0</td>\n",
       "      <td>0 days 00:03:00</td>\n",
       "      <td>3.0</td>\n",
       "      <td>4</td>\n",
       "      <td>ASHB</td>\n",
       "      <td>CIVC</td>\n",
       "      <td>24.0</td>\n",
       "    </tr>\n",
       "    <tr>\n",
       "      <th>7</th>\n",
       "      <td>2</td>\n",
       "      <td>MCAR</td>\n",
       "      <td>CIVC</td>\n",
       "      <td>2025-09-15 22:04:00</td>\n",
       "      <td>09/15/2025</td>\n",
       "      <td>2025-09-15 22:25:00</td>\n",
       "      <td>09/15/2025</td>\n",
       "      <td>PL 4</td>\n",
       "      <td>PL 1</td>\n",
       "      <td>ROUTE 1</td>\n",
       "      <td>1</td>\n",
       "      <td>San Francisco Int'l Airport/Millbrae</td>\n",
       "      <td>0</td>\n",
       "      <td>0 days 00:21:00</td>\n",
       "      <td>21.0</td>\n",
       "      <td>4</td>\n",
       "      <td>ASHB</td>\n",
       "      <td>CIVC</td>\n",
       "      <td>24.0</td>\n",
       "    </tr>\n",
       "  </tbody>\n",
       "</table>\n",
       "</div>"
      ],
      "text/plain": [
       "  @order @origin @destination        @origTimeMin @origTimeDate  \\\n",
       "0      1    ASHB         MCAR 2025-09-15 21:00:00    09/15/2025   \n",
       "1      2    MCAR         CIVC 2025-09-15 21:04:00    09/15/2025   \n",
       "2      1    ASHB         MCAR 2025-09-15 21:20:00    09/15/2025   \n",
       "3      2    MCAR         CIVC 2025-09-15 21:24:00    09/15/2025   \n",
       "4      1    ASHB         MCAR 2025-09-15 21:40:00    09/15/2025   \n",
       "5      2    MCAR         CIVC 2025-09-15 21:44:00    09/15/2025   \n",
       "6      1    ASHB         MCAR 2025-09-15 22:00:00    09/15/2025   \n",
       "7      2    MCAR         CIVC 2025-09-15 22:04:00    09/15/2025   \n",
       "\n",
       "         @destTimeMin @destTimeDate @originPlatform @destinationPlatform  \\\n",
       "0 2025-09-15 21:03:00    09/15/2025            PL 2                 PL 2   \n",
       "1 2025-09-15 21:25:00    09/15/2025            PL 4                 PL 1   \n",
       "2 2025-09-15 21:23:00    09/15/2025            PL 2                 PL 2   \n",
       "3 2025-09-15 21:45:00    09/15/2025            PL 4                 PL 1   \n",
       "4 2025-09-15 21:43:00    09/15/2025            PL 2                 PL 2   \n",
       "5 2025-09-15 22:05:00    09/15/2025            PL 4                 PL 1   \n",
       "6 2025-09-15 22:03:00    09/15/2025            PL 2                 PL 2   \n",
       "7 2025-09-15 22:25:00    09/15/2025            PL 4                 PL 1   \n",
       "\n",
       "     @line @bikeflag                       @trainHeadStation @load  \\\n",
       "0  ROUTE 4         1  OAK Airport / Berryessa/North San Jose     0   \n",
       "1  ROUTE 1         1    San Francisco Int'l Airport/Millbrae     0   \n",
       "2  ROUTE 4         1  OAK Airport / Berryessa/North San Jose     0   \n",
       "3  ROUTE 1         1    San Francisco Int'l Airport/Millbrae     0   \n",
       "4  ROUTE 4         1  OAK Airport / Berryessa/North San Jose     0   \n",
       "5  ROUTE 1         1    San Francisco Int'l Airport/Millbrae     0   \n",
       "6  ROUTE 4         1  OAK Airport / Berryessa/North San Jose     0   \n",
       "7  ROUTE 1         1    San Francisco Int'l Airport/Millbrae     0   \n",
       "\n",
       "         duration  duration_min  trip_id route_origin route_destination  \\\n",
       "0 0 days 00:03:00           3.0        1         ASHB              CIVC   \n",
       "1 0 days 00:21:00          21.0        1         ASHB              CIVC   \n",
       "2 0 days 00:03:00           3.0        2         ASHB              CIVC   \n",
       "3 0 days 00:21:00          21.0        2         ASHB              CIVC   \n",
       "4 0 days 00:03:00           3.0        3         ASHB              CIVC   \n",
       "5 0 days 00:21:00          21.0        3         ASHB              CIVC   \n",
       "6 0 days 00:03:00           3.0        4         ASHB              CIVC   \n",
       "7 0 days 00:21:00          21.0        4         ASHB              CIVC   \n",
       "\n",
       "   total_duration  \n",
       "0            24.0  \n",
       "1            24.0  \n",
       "2            24.0  \n",
       "3            24.0  \n",
       "4            24.0  \n",
       "5            24.0  \n",
       "6            24.0  \n",
       "7            24.0  "
      ]
     },
     "execution_count": 20,
     "metadata": {},
     "output_type": "execute_result"
    }
   ],
   "source": [
    "legs_df['@origTimeMin'] = pd.to_datetime(legs_df['@origTimeMin'])\n",
    "legs_df['@destTimeMin'] = pd.to_datetime(legs_df['@destTimeMin'])\n",
    "\n",
    "legs_df['duration'] = legs_df['@destTimeMin'] - legs_df['@origTimeMin']\n",
    "legs_df['duration_min'] = legs_df['duration'].dt.total_seconds() / 60\n",
    "\n",
    "legs_df"
   ]
  },
  {
   "cell_type": "code",
   "execution_count": 17,
   "id": "7a4e2054",
   "metadata": {},
   "outputs": [
    {
     "data": {
      "text/html": [
       "<div>\n",
       "<style scoped>\n",
       "    .dataframe tbody tr th:only-of-type {\n",
       "        vertical-align: middle;\n",
       "    }\n",
       "\n",
       "    .dataframe tbody tr th {\n",
       "        vertical-align: top;\n",
       "    }\n",
       "\n",
       "    .dataframe thead th {\n",
       "        text-align: right;\n",
       "    }\n",
       "</style>\n",
       "<table border=\"1\" class=\"dataframe\">\n",
       "  <thead>\n",
       "    <tr style=\"text-align: right;\">\n",
       "      <th></th>\n",
       "      <th>@order</th>\n",
       "      <th>@origin</th>\n",
       "      <th>@destination</th>\n",
       "      <th>@origTimeMin</th>\n",
       "      <th>@origTimeDate</th>\n",
       "      <th>@destTimeMin</th>\n",
       "      <th>@destTimeDate</th>\n",
       "      <th>@originPlatform</th>\n",
       "      <th>@destinationPlatform</th>\n",
       "      <th>@line</th>\n",
       "      <th>@bikeflag</th>\n",
       "      <th>@trainHeadStation</th>\n",
       "      <th>@load</th>\n",
       "      <th>duration</th>\n",
       "      <th>duration_min</th>\n",
       "      <th>trip_id</th>\n",
       "    </tr>\n",
       "  </thead>\n",
       "  <tbody>\n",
       "    <tr>\n",
       "      <th>0</th>\n",
       "      <td>1</td>\n",
       "      <td>ASHB</td>\n",
       "      <td>MCAR</td>\n",
       "      <td>2025-09-15 21:00:00</td>\n",
       "      <td>09/15/2025</td>\n",
       "      <td>2025-09-15 21:03:00</td>\n",
       "      <td>09/15/2025</td>\n",
       "      <td>PL 2</td>\n",
       "      <td>PL 2</td>\n",
       "      <td>ROUTE 4</td>\n",
       "      <td>1</td>\n",
       "      <td>OAK Airport / Berryessa/North San Jose</td>\n",
       "      <td>0</td>\n",
       "      <td>0 days 00:03:00</td>\n",
       "      <td>3.0</td>\n",
       "      <td>1</td>\n",
       "    </tr>\n",
       "    <tr>\n",
       "      <th>1</th>\n",
       "      <td>2</td>\n",
       "      <td>MCAR</td>\n",
       "      <td>CIVC</td>\n",
       "      <td>2025-09-15 21:04:00</td>\n",
       "      <td>09/15/2025</td>\n",
       "      <td>2025-09-15 21:25:00</td>\n",
       "      <td>09/15/2025</td>\n",
       "      <td>PL 4</td>\n",
       "      <td>PL 1</td>\n",
       "      <td>ROUTE 1</td>\n",
       "      <td>1</td>\n",
       "      <td>San Francisco Int'l Airport/Millbrae</td>\n",
       "      <td>0</td>\n",
       "      <td>0 days 00:21:00</td>\n",
       "      <td>21.0</td>\n",
       "      <td>1</td>\n",
       "    </tr>\n",
       "    <tr>\n",
       "      <th>2</th>\n",
       "      <td>1</td>\n",
       "      <td>ASHB</td>\n",
       "      <td>MCAR</td>\n",
       "      <td>2025-09-15 21:20:00</td>\n",
       "      <td>09/15/2025</td>\n",
       "      <td>2025-09-15 21:23:00</td>\n",
       "      <td>09/15/2025</td>\n",
       "      <td>PL 2</td>\n",
       "      <td>PL 2</td>\n",
       "      <td>ROUTE 4</td>\n",
       "      <td>1</td>\n",
       "      <td>OAK Airport / Berryessa/North San Jose</td>\n",
       "      <td>0</td>\n",
       "      <td>0 days 00:03:00</td>\n",
       "      <td>3.0</td>\n",
       "      <td>2</td>\n",
       "    </tr>\n",
       "    <tr>\n",
       "      <th>3</th>\n",
       "      <td>2</td>\n",
       "      <td>MCAR</td>\n",
       "      <td>CIVC</td>\n",
       "      <td>2025-09-15 21:24:00</td>\n",
       "      <td>09/15/2025</td>\n",
       "      <td>2025-09-15 21:45:00</td>\n",
       "      <td>09/15/2025</td>\n",
       "      <td>PL 4</td>\n",
       "      <td>PL 1</td>\n",
       "      <td>ROUTE 1</td>\n",
       "      <td>1</td>\n",
       "      <td>San Francisco Int'l Airport/Millbrae</td>\n",
       "      <td>0</td>\n",
       "      <td>0 days 00:21:00</td>\n",
       "      <td>21.0</td>\n",
       "      <td>2</td>\n",
       "    </tr>\n",
       "    <tr>\n",
       "      <th>4</th>\n",
       "      <td>1</td>\n",
       "      <td>ASHB</td>\n",
       "      <td>MCAR</td>\n",
       "      <td>2025-09-15 21:40:00</td>\n",
       "      <td>09/15/2025</td>\n",
       "      <td>2025-09-15 21:43:00</td>\n",
       "      <td>09/15/2025</td>\n",
       "      <td>PL 2</td>\n",
       "      <td>PL 2</td>\n",
       "      <td>ROUTE 4</td>\n",
       "      <td>1</td>\n",
       "      <td>OAK Airport / Berryessa/North San Jose</td>\n",
       "      <td>0</td>\n",
       "      <td>0 days 00:03:00</td>\n",
       "      <td>3.0</td>\n",
       "      <td>3</td>\n",
       "    </tr>\n",
       "    <tr>\n",
       "      <th>5</th>\n",
       "      <td>2</td>\n",
       "      <td>MCAR</td>\n",
       "      <td>CIVC</td>\n",
       "      <td>2025-09-15 21:44:00</td>\n",
       "      <td>09/15/2025</td>\n",
       "      <td>2025-09-15 22:05:00</td>\n",
       "      <td>09/15/2025</td>\n",
       "      <td>PL 4</td>\n",
       "      <td>PL 1</td>\n",
       "      <td>ROUTE 1</td>\n",
       "      <td>1</td>\n",
       "      <td>San Francisco Int'l Airport/Millbrae</td>\n",
       "      <td>0</td>\n",
       "      <td>0 days 00:21:00</td>\n",
       "      <td>21.0</td>\n",
       "      <td>3</td>\n",
       "    </tr>\n",
       "    <tr>\n",
       "      <th>6</th>\n",
       "      <td>1</td>\n",
       "      <td>ASHB</td>\n",
       "      <td>MCAR</td>\n",
       "      <td>2025-09-15 22:00:00</td>\n",
       "      <td>09/15/2025</td>\n",
       "      <td>2025-09-15 22:03:00</td>\n",
       "      <td>09/15/2025</td>\n",
       "      <td>PL 2</td>\n",
       "      <td>PL 2</td>\n",
       "      <td>ROUTE 4</td>\n",
       "      <td>1</td>\n",
       "      <td>OAK Airport / Berryessa/North San Jose</td>\n",
       "      <td>0</td>\n",
       "      <td>0 days 00:03:00</td>\n",
       "      <td>3.0</td>\n",
       "      <td>4</td>\n",
       "    </tr>\n",
       "    <tr>\n",
       "      <th>7</th>\n",
       "      <td>2</td>\n",
       "      <td>MCAR</td>\n",
       "      <td>CIVC</td>\n",
       "      <td>2025-09-15 22:04:00</td>\n",
       "      <td>09/15/2025</td>\n",
       "      <td>2025-09-15 22:25:00</td>\n",
       "      <td>09/15/2025</td>\n",
       "      <td>PL 4</td>\n",
       "      <td>PL 1</td>\n",
       "      <td>ROUTE 1</td>\n",
       "      <td>1</td>\n",
       "      <td>San Francisco Int'l Airport/Millbrae</td>\n",
       "      <td>0</td>\n",
       "      <td>0 days 00:21:00</td>\n",
       "      <td>21.0</td>\n",
       "      <td>4</td>\n",
       "    </tr>\n",
       "  </tbody>\n",
       "</table>\n",
       "</div>"
      ],
      "text/plain": [
       "  @order @origin @destination        @origTimeMin @origTimeDate  \\\n",
       "0      1    ASHB         MCAR 2025-09-15 21:00:00    09/15/2025   \n",
       "1      2    MCAR         CIVC 2025-09-15 21:04:00    09/15/2025   \n",
       "2      1    ASHB         MCAR 2025-09-15 21:20:00    09/15/2025   \n",
       "3      2    MCAR         CIVC 2025-09-15 21:24:00    09/15/2025   \n",
       "4      1    ASHB         MCAR 2025-09-15 21:40:00    09/15/2025   \n",
       "5      2    MCAR         CIVC 2025-09-15 21:44:00    09/15/2025   \n",
       "6      1    ASHB         MCAR 2025-09-15 22:00:00    09/15/2025   \n",
       "7      2    MCAR         CIVC 2025-09-15 22:04:00    09/15/2025   \n",
       "\n",
       "         @destTimeMin @destTimeDate @originPlatform @destinationPlatform  \\\n",
       "0 2025-09-15 21:03:00    09/15/2025            PL 2                 PL 2   \n",
       "1 2025-09-15 21:25:00    09/15/2025            PL 4                 PL 1   \n",
       "2 2025-09-15 21:23:00    09/15/2025            PL 2                 PL 2   \n",
       "3 2025-09-15 21:45:00    09/15/2025            PL 4                 PL 1   \n",
       "4 2025-09-15 21:43:00    09/15/2025            PL 2                 PL 2   \n",
       "5 2025-09-15 22:05:00    09/15/2025            PL 4                 PL 1   \n",
       "6 2025-09-15 22:03:00    09/15/2025            PL 2                 PL 2   \n",
       "7 2025-09-15 22:25:00    09/15/2025            PL 4                 PL 1   \n",
       "\n",
       "     @line @bikeflag                       @trainHeadStation @load  \\\n",
       "0  ROUTE 4         1  OAK Airport / Berryessa/North San Jose     0   \n",
       "1  ROUTE 1         1    San Francisco Int'l Airport/Millbrae     0   \n",
       "2  ROUTE 4         1  OAK Airport / Berryessa/North San Jose     0   \n",
       "3  ROUTE 1         1    San Francisco Int'l Airport/Millbrae     0   \n",
       "4  ROUTE 4         1  OAK Airport / Berryessa/North San Jose     0   \n",
       "5  ROUTE 1         1    San Francisco Int'l Airport/Millbrae     0   \n",
       "6  ROUTE 4         1  OAK Airport / Berryessa/North San Jose     0   \n",
       "7  ROUTE 1         1    San Francisco Int'l Airport/Millbrae     0   \n",
       "\n",
       "         duration  duration_min  trip_id  \n",
       "0 0 days 00:03:00           3.0        1  \n",
       "1 0 days 00:21:00          21.0        1  \n",
       "2 0 days 00:03:00           3.0        2  \n",
       "3 0 days 00:21:00          21.0        2  \n",
       "4 0 days 00:03:00           3.0        3  \n",
       "5 0 days 00:21:00          21.0        3  \n",
       "6 0 days 00:03:00           3.0        4  \n",
       "7 0 days 00:21:00          21.0        4  "
      ]
     },
     "execution_count": 17,
     "metadata": {},
     "output_type": "execute_result"
    }
   ],
   "source": [
    "trip_id = 0\n",
    "trip_ids = []\n",
    "\n",
    "for i, row in legs_df.iterrows():\n",
    "    if i == 0:\n",
    "        trip_id += 1\n",
    "    else:\n",
    "        prev = legs_df.iloc[i-1]\n",
    "        # start new trip if current leg doesn't continue from previous leg\n",
    "        if row['@origin'] != prev['@destination']:\n",
    "            trip_id += 1\n",
    "    trip_ids.append(trip_id)\n",
    "    \n",
    "legs_df['trip_id'] = trip_ids\n",
    "\n",
    "legs_df"
   ]
  },
  {
   "cell_type": "code",
   "execution_count": 22,
   "id": "d3fe2f58",
   "metadata": {},
   "outputs": [
    {
     "data": {
      "text/html": [
       "<div>\n",
       "<style scoped>\n",
       "    .dataframe tbody tr th:only-of-type {\n",
       "        vertical-align: middle;\n",
       "    }\n",
       "\n",
       "    .dataframe tbody tr th {\n",
       "        vertical-align: top;\n",
       "    }\n",
       "\n",
       "    .dataframe thead th {\n",
       "        text-align: right;\n",
       "    }\n",
       "</style>\n",
       "<table border=\"1\" class=\"dataframe\">\n",
       "  <thead>\n",
       "    <tr style=\"text-align: right;\">\n",
       "      <th></th>\n",
       "      <th>@order</th>\n",
       "      <th>@origin</th>\n",
       "      <th>@destination</th>\n",
       "      <th>@origTimeMin</th>\n",
       "      <th>@origTimeDate</th>\n",
       "      <th>@destTimeMin</th>\n",
       "      <th>@destTimeDate</th>\n",
       "      <th>@originPlatform</th>\n",
       "      <th>@destinationPlatform</th>\n",
       "      <th>@line</th>\n",
       "      <th>...</th>\n",
       "      <th>trip_id</th>\n",
       "      <th>route_origin_x</th>\n",
       "      <th>route_destination_x</th>\n",
       "      <th>total_duration_x</th>\n",
       "      <th>route_origin_y</th>\n",
       "      <th>route_destination_y</th>\n",
       "      <th>total_duration_y</th>\n",
       "      <th>route_origin</th>\n",
       "      <th>route_destination</th>\n",
       "      <th>total_duration</th>\n",
       "    </tr>\n",
       "  </thead>\n",
       "  <tbody>\n",
       "    <tr>\n",
       "      <th>0</th>\n",
       "      <td>1</td>\n",
       "      <td>ASHB</td>\n",
       "      <td>MCAR</td>\n",
       "      <td>2025-09-15 21:00:00</td>\n",
       "      <td>09/15/2025</td>\n",
       "      <td>2025-09-15 21:03:00</td>\n",
       "      <td>09/15/2025</td>\n",
       "      <td>PL 2</td>\n",
       "      <td>PL 2</td>\n",
       "      <td>ROUTE 4</td>\n",
       "      <td>...</td>\n",
       "      <td>1</td>\n",
       "      <td>ASHB</td>\n",
       "      <td>CIVC</td>\n",
       "      <td>24.0</td>\n",
       "      <td>ASHB</td>\n",
       "      <td>CIVC</td>\n",
       "      <td>24.0</td>\n",
       "      <td>ASHB</td>\n",
       "      <td>CIVC</td>\n",
       "      <td>24.0</td>\n",
       "    </tr>\n",
       "    <tr>\n",
       "      <th>1</th>\n",
       "      <td>2</td>\n",
       "      <td>MCAR</td>\n",
       "      <td>CIVC</td>\n",
       "      <td>2025-09-15 21:04:00</td>\n",
       "      <td>09/15/2025</td>\n",
       "      <td>2025-09-15 21:25:00</td>\n",
       "      <td>09/15/2025</td>\n",
       "      <td>PL 4</td>\n",
       "      <td>PL 1</td>\n",
       "      <td>ROUTE 1</td>\n",
       "      <td>...</td>\n",
       "      <td>1</td>\n",
       "      <td>ASHB</td>\n",
       "      <td>CIVC</td>\n",
       "      <td>24.0</td>\n",
       "      <td>ASHB</td>\n",
       "      <td>CIVC</td>\n",
       "      <td>24.0</td>\n",
       "      <td>ASHB</td>\n",
       "      <td>CIVC</td>\n",
       "      <td>24.0</td>\n",
       "    </tr>\n",
       "    <tr>\n",
       "      <th>2</th>\n",
       "      <td>1</td>\n",
       "      <td>ASHB</td>\n",
       "      <td>MCAR</td>\n",
       "      <td>2025-09-15 21:20:00</td>\n",
       "      <td>09/15/2025</td>\n",
       "      <td>2025-09-15 21:23:00</td>\n",
       "      <td>09/15/2025</td>\n",
       "      <td>PL 2</td>\n",
       "      <td>PL 2</td>\n",
       "      <td>ROUTE 4</td>\n",
       "      <td>...</td>\n",
       "      <td>2</td>\n",
       "      <td>ASHB</td>\n",
       "      <td>CIVC</td>\n",
       "      <td>24.0</td>\n",
       "      <td>ASHB</td>\n",
       "      <td>CIVC</td>\n",
       "      <td>24.0</td>\n",
       "      <td>ASHB</td>\n",
       "      <td>CIVC</td>\n",
       "      <td>24.0</td>\n",
       "    </tr>\n",
       "    <tr>\n",
       "      <th>3</th>\n",
       "      <td>2</td>\n",
       "      <td>MCAR</td>\n",
       "      <td>CIVC</td>\n",
       "      <td>2025-09-15 21:24:00</td>\n",
       "      <td>09/15/2025</td>\n",
       "      <td>2025-09-15 21:45:00</td>\n",
       "      <td>09/15/2025</td>\n",
       "      <td>PL 4</td>\n",
       "      <td>PL 1</td>\n",
       "      <td>ROUTE 1</td>\n",
       "      <td>...</td>\n",
       "      <td>2</td>\n",
       "      <td>ASHB</td>\n",
       "      <td>CIVC</td>\n",
       "      <td>24.0</td>\n",
       "      <td>ASHB</td>\n",
       "      <td>CIVC</td>\n",
       "      <td>24.0</td>\n",
       "      <td>ASHB</td>\n",
       "      <td>CIVC</td>\n",
       "      <td>24.0</td>\n",
       "    </tr>\n",
       "    <tr>\n",
       "      <th>4</th>\n",
       "      <td>1</td>\n",
       "      <td>ASHB</td>\n",
       "      <td>MCAR</td>\n",
       "      <td>2025-09-15 21:40:00</td>\n",
       "      <td>09/15/2025</td>\n",
       "      <td>2025-09-15 21:43:00</td>\n",
       "      <td>09/15/2025</td>\n",
       "      <td>PL 2</td>\n",
       "      <td>PL 2</td>\n",
       "      <td>ROUTE 4</td>\n",
       "      <td>...</td>\n",
       "      <td>3</td>\n",
       "      <td>ASHB</td>\n",
       "      <td>CIVC</td>\n",
       "      <td>24.0</td>\n",
       "      <td>ASHB</td>\n",
       "      <td>CIVC</td>\n",
       "      <td>24.0</td>\n",
       "      <td>ASHB</td>\n",
       "      <td>CIVC</td>\n",
       "      <td>24.0</td>\n",
       "    </tr>\n",
       "    <tr>\n",
       "      <th>5</th>\n",
       "      <td>2</td>\n",
       "      <td>MCAR</td>\n",
       "      <td>CIVC</td>\n",
       "      <td>2025-09-15 21:44:00</td>\n",
       "      <td>09/15/2025</td>\n",
       "      <td>2025-09-15 22:05:00</td>\n",
       "      <td>09/15/2025</td>\n",
       "      <td>PL 4</td>\n",
       "      <td>PL 1</td>\n",
       "      <td>ROUTE 1</td>\n",
       "      <td>...</td>\n",
       "      <td>3</td>\n",
       "      <td>ASHB</td>\n",
       "      <td>CIVC</td>\n",
       "      <td>24.0</td>\n",
       "      <td>ASHB</td>\n",
       "      <td>CIVC</td>\n",
       "      <td>24.0</td>\n",
       "      <td>ASHB</td>\n",
       "      <td>CIVC</td>\n",
       "      <td>24.0</td>\n",
       "    </tr>\n",
       "    <tr>\n",
       "      <th>6</th>\n",
       "      <td>1</td>\n",
       "      <td>ASHB</td>\n",
       "      <td>MCAR</td>\n",
       "      <td>2025-09-15 22:00:00</td>\n",
       "      <td>09/15/2025</td>\n",
       "      <td>2025-09-15 22:03:00</td>\n",
       "      <td>09/15/2025</td>\n",
       "      <td>PL 2</td>\n",
       "      <td>PL 2</td>\n",
       "      <td>ROUTE 4</td>\n",
       "      <td>...</td>\n",
       "      <td>4</td>\n",
       "      <td>ASHB</td>\n",
       "      <td>CIVC</td>\n",
       "      <td>24.0</td>\n",
       "      <td>ASHB</td>\n",
       "      <td>CIVC</td>\n",
       "      <td>24.0</td>\n",
       "      <td>ASHB</td>\n",
       "      <td>CIVC</td>\n",
       "      <td>24.0</td>\n",
       "    </tr>\n",
       "    <tr>\n",
       "      <th>7</th>\n",
       "      <td>2</td>\n",
       "      <td>MCAR</td>\n",
       "      <td>CIVC</td>\n",
       "      <td>2025-09-15 22:04:00</td>\n",
       "      <td>09/15/2025</td>\n",
       "      <td>2025-09-15 22:25:00</td>\n",
       "      <td>09/15/2025</td>\n",
       "      <td>PL 4</td>\n",
       "      <td>PL 1</td>\n",
       "      <td>ROUTE 1</td>\n",
       "      <td>...</td>\n",
       "      <td>4</td>\n",
       "      <td>ASHB</td>\n",
       "      <td>CIVC</td>\n",
       "      <td>24.0</td>\n",
       "      <td>ASHB</td>\n",
       "      <td>CIVC</td>\n",
       "      <td>24.0</td>\n",
       "      <td>ASHB</td>\n",
       "      <td>CIVC</td>\n",
       "      <td>24.0</td>\n",
       "    </tr>\n",
       "  </tbody>\n",
       "</table>\n",
       "<p>8 rows × 25 columns</p>\n",
       "</div>"
      ],
      "text/plain": [
       "  @order @origin @destination        @origTimeMin @origTimeDate  \\\n",
       "0      1    ASHB         MCAR 2025-09-15 21:00:00    09/15/2025   \n",
       "1      2    MCAR         CIVC 2025-09-15 21:04:00    09/15/2025   \n",
       "2      1    ASHB         MCAR 2025-09-15 21:20:00    09/15/2025   \n",
       "3      2    MCAR         CIVC 2025-09-15 21:24:00    09/15/2025   \n",
       "4      1    ASHB         MCAR 2025-09-15 21:40:00    09/15/2025   \n",
       "5      2    MCAR         CIVC 2025-09-15 21:44:00    09/15/2025   \n",
       "6      1    ASHB         MCAR 2025-09-15 22:00:00    09/15/2025   \n",
       "7      2    MCAR         CIVC 2025-09-15 22:04:00    09/15/2025   \n",
       "\n",
       "         @destTimeMin @destTimeDate @originPlatform @destinationPlatform  \\\n",
       "0 2025-09-15 21:03:00    09/15/2025            PL 2                 PL 2   \n",
       "1 2025-09-15 21:25:00    09/15/2025            PL 4                 PL 1   \n",
       "2 2025-09-15 21:23:00    09/15/2025            PL 2                 PL 2   \n",
       "3 2025-09-15 21:45:00    09/15/2025            PL 4                 PL 1   \n",
       "4 2025-09-15 21:43:00    09/15/2025            PL 2                 PL 2   \n",
       "5 2025-09-15 22:05:00    09/15/2025            PL 4                 PL 1   \n",
       "6 2025-09-15 22:03:00    09/15/2025            PL 2                 PL 2   \n",
       "7 2025-09-15 22:25:00    09/15/2025            PL 4                 PL 1   \n",
       "\n",
       "     @line  ... trip_id route_origin_x route_destination_x total_duration_x  \\\n",
       "0  ROUTE 4  ...       1           ASHB                CIVC             24.0   \n",
       "1  ROUTE 1  ...       1           ASHB                CIVC             24.0   \n",
       "2  ROUTE 4  ...       2           ASHB                CIVC             24.0   \n",
       "3  ROUTE 1  ...       2           ASHB                CIVC             24.0   \n",
       "4  ROUTE 4  ...       3           ASHB                CIVC             24.0   \n",
       "5  ROUTE 1  ...       3           ASHB                CIVC             24.0   \n",
       "6  ROUTE 4  ...       4           ASHB                CIVC             24.0   \n",
       "7  ROUTE 1  ...       4           ASHB                CIVC             24.0   \n",
       "\n",
       "   route_origin_y  route_destination_y total_duration_y route_origin  \\\n",
       "0            ASHB                 CIVC             24.0         ASHB   \n",
       "1            ASHB                 CIVC             24.0         ASHB   \n",
       "2            ASHB                 CIVC             24.0         ASHB   \n",
       "3            ASHB                 CIVC             24.0         ASHB   \n",
       "4            ASHB                 CIVC             24.0         ASHB   \n",
       "5            ASHB                 CIVC             24.0         ASHB   \n",
       "6            ASHB                 CIVC             24.0         ASHB   \n",
       "7            ASHB                 CIVC             24.0         ASHB   \n",
       "\n",
       "   route_destination total_duration  \n",
       "0               CIVC           24.0  \n",
       "1               CIVC           24.0  \n",
       "2               CIVC           24.0  \n",
       "3               CIVC           24.0  \n",
       "4               CIVC           24.0  \n",
       "5               CIVC           24.0  \n",
       "6               CIVC           24.0  \n",
       "7               CIVC           24.0  \n",
       "\n",
       "[8 rows x 25 columns]"
      ]
     },
     "execution_count": 22,
     "metadata": {},
     "output_type": "execute_result"
    }
   ],
   "source": [
    "routes_df = (\n",
    "    legs_df.groupby(\"trip_id\")\n",
    "    .agg(\n",
    "        route_origin=(\"@origin\", \"first\"),\n",
    "        route_destination=(\"@destination\", \"last\"),\n",
    "        total_duration=(\"duration_min\", \"sum\")\n",
    "        )\n",
    "    .reset_index()\n",
    ")\n",
    "\n",
    "legs_df = legs_df.merge(routes_df, on=\"trip_id\", how=\"left\")\n",
    "\n",
    "legs_df"
   ]
  },
  {
   "cell_type": "code",
   "execution_count": 23,
   "id": "f06afe8e",
   "metadata": {},
   "outputs": [
    {
     "data": {
      "application/vnd.plotly.v1+json": {
       "config": {
        "plotlyServerURL": "https://plot.ly"
       },
       "data": [
        {
         "base": [
          "2025-09-15T21:00:00.000000000",
          "2025-09-15T21:20:00.000000000",
          "2025-09-15T21:40:00.000000000",
          "2025-09-15T22:00:00.000000000"
         ],
         "customdata": [
          [
           "ASHB",
           "MCAR",
           3
          ],
          [
           "ASHB",
           "MCAR",
           3
          ],
          [
           "ASHB",
           "MCAR",
           3
          ],
          [
           "ASHB",
           "MCAR",
           3
          ]
         ],
         "hovertemplate": "@line=ROUTE 4<br>@origTimeMin=%{base}<br>@destTimeMin=%{x}<br>trip_id=%{y}<br>@origin=%{customdata[0]}<br>@destination=%{customdata[1]}<br>duration_min=%{customdata[2]}<extra></extra>",
         "legendgroup": "ROUTE 4",
         "marker": {
          "color": "#636efa",
          "pattern": {
           "shape": ""
          }
         },
         "name": "ROUTE 4",
         "orientation": "h",
         "showlegend": true,
         "textposition": "auto",
         "type": "bar",
         "width": 0.3,
         "x": {
          "bdata": "IL8CACC/AgAgvwIAIL8CAA==",
          "dtype": "i4"
         },
         "xaxis": "x",
         "y": {
          "bdata": "AQIDBA==",
          "dtype": "i1"
         },
         "yaxis": "y"
        },
        {
         "base": [
          "2025-09-15T21:04:00.000000000",
          "2025-09-15T21:24:00.000000000",
          "2025-09-15T21:44:00.000000000",
          "2025-09-15T22:04:00.000000000"
         ],
         "customdata": [
          [
           "MCAR",
           "CIVC",
           21
          ],
          [
           "MCAR",
           "CIVC",
           21
          ],
          [
           "MCAR",
           "CIVC",
           21
          ],
          [
           "MCAR",
           "CIVC",
           21
          ]
         ],
         "hovertemplate": "@line=ROUTE 1<br>@origTimeMin=%{base}<br>@destTimeMin=%{x}<br>trip_id=%{y}<br>@origin=%{customdata[0]}<br>@destination=%{customdata[1]}<br>duration_min=%{customdata[2]}<extra></extra>",
         "legendgroup": "ROUTE 1",
         "marker": {
          "color": "#EF553B",
          "pattern": {
           "shape": ""
          }
         },
         "name": "ROUTE 1",
         "orientation": "h",
         "showlegend": true,
         "textposition": "auto",
         "type": "bar",
         "width": 0.3,
         "x": {
          "bdata": "4DkTAOA5EwDgORMA4DkTAA==",
          "dtype": "i4"
         },
         "xaxis": "x",
         "y": {
          "bdata": "AQIDBA==",
          "dtype": "i1"
         },
         "yaxis": "y"
        }
       ],
       "layout": {
        "annotations": [
         {
          "font": {
           "color": "black",
           "size": 10
          },
          "showarrow": false,
          "text": "ASHB",
          "textangle": -90,
          "x": "2025-09-15T21:00:00",
          "xanchor": "center",
          "y": 1,
          "yanchor": "middle"
         },
         {
          "font": {
           "color": "black",
           "size": 10
          },
          "showarrow": false,
          "text": "MCAR",
          "textangle": -90,
          "x": "2025-09-15T21:03:00",
          "xanchor": "center",
          "y": 1,
          "yanchor": "middle"
         },
         {
          "font": {
           "color": "black",
           "size": 10
          },
          "showarrow": false,
          "text": "MCAR",
          "textangle": -90,
          "x": "2025-09-15T21:04:00",
          "xanchor": "center",
          "y": 1,
          "yanchor": "middle"
         },
         {
          "font": {
           "color": "black",
           "size": 10
          },
          "showarrow": false,
          "text": "CIVC",
          "textangle": -90,
          "x": "2025-09-15T21:25:00",
          "xanchor": "center",
          "y": 1,
          "yanchor": "middle"
         },
         {
          "font": {
           "color": "black",
           "size": 10
          },
          "showarrow": false,
          "text": "ASHB",
          "textangle": -90,
          "x": "2025-09-15T21:20:00",
          "xanchor": "center",
          "y": 2,
          "yanchor": "middle"
         },
         {
          "font": {
           "color": "black",
           "size": 10
          },
          "showarrow": false,
          "text": "MCAR",
          "textangle": -90,
          "x": "2025-09-15T21:23:00",
          "xanchor": "center",
          "y": 2,
          "yanchor": "middle"
         },
         {
          "font": {
           "color": "black",
           "size": 10
          },
          "showarrow": false,
          "text": "MCAR",
          "textangle": -90,
          "x": "2025-09-15T21:24:00",
          "xanchor": "center",
          "y": 2,
          "yanchor": "middle"
         },
         {
          "font": {
           "color": "black",
           "size": 10
          },
          "showarrow": false,
          "text": "CIVC",
          "textangle": -90,
          "x": "2025-09-15T21:45:00",
          "xanchor": "center",
          "y": 2,
          "yanchor": "middle"
         },
         {
          "font": {
           "color": "black",
           "size": 10
          },
          "showarrow": false,
          "text": "ASHB",
          "textangle": -90,
          "x": "2025-09-15T21:40:00",
          "xanchor": "center",
          "y": 3,
          "yanchor": "middle"
         },
         {
          "font": {
           "color": "black",
           "size": 10
          },
          "showarrow": false,
          "text": "MCAR",
          "textangle": -90,
          "x": "2025-09-15T21:43:00",
          "xanchor": "center",
          "y": 3,
          "yanchor": "middle"
         },
         {
          "font": {
           "color": "black",
           "size": 10
          },
          "showarrow": false,
          "text": "MCAR",
          "textangle": -90,
          "x": "2025-09-15T21:44:00",
          "xanchor": "center",
          "y": 3,
          "yanchor": "middle"
         },
         {
          "font": {
           "color": "black",
           "size": 10
          },
          "showarrow": false,
          "text": "CIVC",
          "textangle": -90,
          "x": "2025-09-15T22:05:00",
          "xanchor": "center",
          "y": 3,
          "yanchor": "middle"
         },
         {
          "font": {
           "color": "black",
           "size": 10
          },
          "showarrow": false,
          "text": "ASHB",
          "textangle": -90,
          "x": "2025-09-15T22:00:00",
          "xanchor": "center",
          "y": 4,
          "yanchor": "middle"
         },
         {
          "font": {
           "color": "black",
           "size": 10
          },
          "showarrow": false,
          "text": "MCAR",
          "textangle": -90,
          "x": "2025-09-15T22:03:00",
          "xanchor": "center",
          "y": 4,
          "yanchor": "middle"
         },
         {
          "font": {
           "color": "black",
           "size": 10
          },
          "showarrow": false,
          "text": "MCAR",
          "textangle": -90,
          "x": "2025-09-15T22:04:00",
          "xanchor": "center",
          "y": 4,
          "yanchor": "middle"
         },
         {
          "font": {
           "color": "black",
           "size": 10
          },
          "showarrow": false,
          "text": "CIVC",
          "textangle": -90,
          "x": "2025-09-15T22:25:00",
          "xanchor": "center",
          "y": 4,
          "yanchor": "middle"
         },
         {
          "align": "left",
          "font": {
           "color": "black",
           "size": 10
          },
          "showarrow": false,
          "text": "Total Duration: 24 min",
          "x": "2025-09-15T21:27:00",
          "y": 1.35
         },
         {
          "align": "left",
          "font": {
           "color": "black",
           "size": 10
          },
          "showarrow": false,
          "text": "Total Duration: 24 min",
          "x": "2025-09-15T21:47:00",
          "y": 2.35
         },
         {
          "align": "left",
          "font": {
           "color": "black",
           "size": 10
          },
          "showarrow": false,
          "text": "Total Duration: 24 min",
          "x": "2025-09-15T22:07:00",
          "y": 3.35
         },
         {
          "align": "left",
          "font": {
           "color": "black",
           "size": 10
          },
          "showarrow": false,
          "text": "Total Duration: 24 min",
          "x": "2025-09-15T22:27:00",
          "y": 4.35
         }
        ],
        "barmode": "overlay",
        "legend": {
         "title": {
          "text": "@line"
         },
         "tracegroupgap": 0
        },
        "margin": {
         "t": 60
        },
        "template": {
         "data": {
          "bar": [
           {
            "error_x": {
             "color": "#2a3f5f"
            },
            "error_y": {
             "color": "#2a3f5f"
            },
            "marker": {
             "line": {
              "color": "#E5ECF6",
              "width": 0.5
             },
             "pattern": {
              "fillmode": "overlay",
              "size": 10,
              "solidity": 0.2
             }
            },
            "type": "bar"
           }
          ],
          "barpolar": [
           {
            "marker": {
             "line": {
              "color": "#E5ECF6",
              "width": 0.5
             },
             "pattern": {
              "fillmode": "overlay",
              "size": 10,
              "solidity": 0.2
             }
            },
            "type": "barpolar"
           }
          ],
          "carpet": [
           {
            "aaxis": {
             "endlinecolor": "#2a3f5f",
             "gridcolor": "white",
             "linecolor": "white",
             "minorgridcolor": "white",
             "startlinecolor": "#2a3f5f"
            },
            "baxis": {
             "endlinecolor": "#2a3f5f",
             "gridcolor": "white",
             "linecolor": "white",
             "minorgridcolor": "white",
             "startlinecolor": "#2a3f5f"
            },
            "type": "carpet"
           }
          ],
          "choropleth": [
           {
            "colorbar": {
             "outlinewidth": 0,
             "ticks": ""
            },
            "type": "choropleth"
           }
          ],
          "contour": [
           {
            "colorbar": {
             "outlinewidth": 0,
             "ticks": ""
            },
            "colorscale": [
             [
              0,
              "#0d0887"
             ],
             [
              0.1111111111111111,
              "#46039f"
             ],
             [
              0.2222222222222222,
              "#7201a8"
             ],
             [
              0.3333333333333333,
              "#9c179e"
             ],
             [
              0.4444444444444444,
              "#bd3786"
             ],
             [
              0.5555555555555556,
              "#d8576b"
             ],
             [
              0.6666666666666666,
              "#ed7953"
             ],
             [
              0.7777777777777778,
              "#fb9f3a"
             ],
             [
              0.8888888888888888,
              "#fdca26"
             ],
             [
              1,
              "#f0f921"
             ]
            ],
            "type": "contour"
           }
          ],
          "contourcarpet": [
           {
            "colorbar": {
             "outlinewidth": 0,
             "ticks": ""
            },
            "type": "contourcarpet"
           }
          ],
          "heatmap": [
           {
            "colorbar": {
             "outlinewidth": 0,
             "ticks": ""
            },
            "colorscale": [
             [
              0,
              "#0d0887"
             ],
             [
              0.1111111111111111,
              "#46039f"
             ],
             [
              0.2222222222222222,
              "#7201a8"
             ],
             [
              0.3333333333333333,
              "#9c179e"
             ],
             [
              0.4444444444444444,
              "#bd3786"
             ],
             [
              0.5555555555555556,
              "#d8576b"
             ],
             [
              0.6666666666666666,
              "#ed7953"
             ],
             [
              0.7777777777777778,
              "#fb9f3a"
             ],
             [
              0.8888888888888888,
              "#fdca26"
             ],
             [
              1,
              "#f0f921"
             ]
            ],
            "type": "heatmap"
           }
          ],
          "histogram": [
           {
            "marker": {
             "pattern": {
              "fillmode": "overlay",
              "size": 10,
              "solidity": 0.2
             }
            },
            "type": "histogram"
           }
          ],
          "histogram2d": [
           {
            "colorbar": {
             "outlinewidth": 0,
             "ticks": ""
            },
            "colorscale": [
             [
              0,
              "#0d0887"
             ],
             [
              0.1111111111111111,
              "#46039f"
             ],
             [
              0.2222222222222222,
              "#7201a8"
             ],
             [
              0.3333333333333333,
              "#9c179e"
             ],
             [
              0.4444444444444444,
              "#bd3786"
             ],
             [
              0.5555555555555556,
              "#d8576b"
             ],
             [
              0.6666666666666666,
              "#ed7953"
             ],
             [
              0.7777777777777778,
              "#fb9f3a"
             ],
             [
              0.8888888888888888,
              "#fdca26"
             ],
             [
              1,
              "#f0f921"
             ]
            ],
            "type": "histogram2d"
           }
          ],
          "histogram2dcontour": [
           {
            "colorbar": {
             "outlinewidth": 0,
             "ticks": ""
            },
            "colorscale": [
             [
              0,
              "#0d0887"
             ],
             [
              0.1111111111111111,
              "#46039f"
             ],
             [
              0.2222222222222222,
              "#7201a8"
             ],
             [
              0.3333333333333333,
              "#9c179e"
             ],
             [
              0.4444444444444444,
              "#bd3786"
             ],
             [
              0.5555555555555556,
              "#d8576b"
             ],
             [
              0.6666666666666666,
              "#ed7953"
             ],
             [
              0.7777777777777778,
              "#fb9f3a"
             ],
             [
              0.8888888888888888,
              "#fdca26"
             ],
             [
              1,
              "#f0f921"
             ]
            ],
            "type": "histogram2dcontour"
           }
          ],
          "mesh3d": [
           {
            "colorbar": {
             "outlinewidth": 0,
             "ticks": ""
            },
            "type": "mesh3d"
           }
          ],
          "parcoords": [
           {
            "line": {
             "colorbar": {
              "outlinewidth": 0,
              "ticks": ""
             }
            },
            "type": "parcoords"
           }
          ],
          "pie": [
           {
            "automargin": true,
            "type": "pie"
           }
          ],
          "scatter": [
           {
            "fillpattern": {
             "fillmode": "overlay",
             "size": 10,
             "solidity": 0.2
            },
            "type": "scatter"
           }
          ],
          "scatter3d": [
           {
            "line": {
             "colorbar": {
              "outlinewidth": 0,
              "ticks": ""
             }
            },
            "marker": {
             "colorbar": {
              "outlinewidth": 0,
              "ticks": ""
             }
            },
            "type": "scatter3d"
           }
          ],
          "scattercarpet": [
           {
            "marker": {
             "colorbar": {
              "outlinewidth": 0,
              "ticks": ""
             }
            },
            "type": "scattercarpet"
           }
          ],
          "scattergeo": [
           {
            "marker": {
             "colorbar": {
              "outlinewidth": 0,
              "ticks": ""
             }
            },
            "type": "scattergeo"
           }
          ],
          "scattergl": [
           {
            "marker": {
             "colorbar": {
              "outlinewidth": 0,
              "ticks": ""
             }
            },
            "type": "scattergl"
           }
          ],
          "scattermap": [
           {
            "marker": {
             "colorbar": {
              "outlinewidth": 0,
              "ticks": ""
             }
            },
            "type": "scattermap"
           }
          ],
          "scattermapbox": [
           {
            "marker": {
             "colorbar": {
              "outlinewidth": 0,
              "ticks": ""
             }
            },
            "type": "scattermapbox"
           }
          ],
          "scatterpolar": [
           {
            "marker": {
             "colorbar": {
              "outlinewidth": 0,
              "ticks": ""
             }
            },
            "type": "scatterpolar"
           }
          ],
          "scatterpolargl": [
           {
            "marker": {
             "colorbar": {
              "outlinewidth": 0,
              "ticks": ""
             }
            },
            "type": "scatterpolargl"
           }
          ],
          "scatterternary": [
           {
            "marker": {
             "colorbar": {
              "outlinewidth": 0,
              "ticks": ""
             }
            },
            "type": "scatterternary"
           }
          ],
          "surface": [
           {
            "colorbar": {
             "outlinewidth": 0,
             "ticks": ""
            },
            "colorscale": [
             [
              0,
              "#0d0887"
             ],
             [
              0.1111111111111111,
              "#46039f"
             ],
             [
              0.2222222222222222,
              "#7201a8"
             ],
             [
              0.3333333333333333,
              "#9c179e"
             ],
             [
              0.4444444444444444,
              "#bd3786"
             ],
             [
              0.5555555555555556,
              "#d8576b"
             ],
             [
              0.6666666666666666,
              "#ed7953"
             ],
             [
              0.7777777777777778,
              "#fb9f3a"
             ],
             [
              0.8888888888888888,
              "#fdca26"
             ],
             [
              1,
              "#f0f921"
             ]
            ],
            "type": "surface"
           }
          ],
          "table": [
           {
            "cells": {
             "fill": {
              "color": "#EBF0F8"
             },
             "line": {
              "color": "white"
             }
            },
            "header": {
             "fill": {
              "color": "#C8D4E3"
             },
             "line": {
              "color": "white"
             }
            },
            "type": "table"
           }
          ]
         },
         "layout": {
          "annotationdefaults": {
           "arrowcolor": "#2a3f5f",
           "arrowhead": 0,
           "arrowwidth": 1
          },
          "autotypenumbers": "strict",
          "coloraxis": {
           "colorbar": {
            "outlinewidth": 0,
            "ticks": ""
           }
          },
          "colorscale": {
           "diverging": [
            [
             0,
             "#8e0152"
            ],
            [
             0.1,
             "#c51b7d"
            ],
            [
             0.2,
             "#de77ae"
            ],
            [
             0.3,
             "#f1b6da"
            ],
            [
             0.4,
             "#fde0ef"
            ],
            [
             0.5,
             "#f7f7f7"
            ],
            [
             0.6,
             "#e6f5d0"
            ],
            [
             0.7,
             "#b8e186"
            ],
            [
             0.8,
             "#7fbc41"
            ],
            [
             0.9,
             "#4d9221"
            ],
            [
             1,
             "#276419"
            ]
           ],
           "sequential": [
            [
             0,
             "#0d0887"
            ],
            [
             0.1111111111111111,
             "#46039f"
            ],
            [
             0.2222222222222222,
             "#7201a8"
            ],
            [
             0.3333333333333333,
             "#9c179e"
            ],
            [
             0.4444444444444444,
             "#bd3786"
            ],
            [
             0.5555555555555556,
             "#d8576b"
            ],
            [
             0.6666666666666666,
             "#ed7953"
            ],
            [
             0.7777777777777778,
             "#fb9f3a"
            ],
            [
             0.8888888888888888,
             "#fdca26"
            ],
            [
             1,
             "#f0f921"
            ]
           ],
           "sequentialminus": [
            [
             0,
             "#0d0887"
            ],
            [
             0.1111111111111111,
             "#46039f"
            ],
            [
             0.2222222222222222,
             "#7201a8"
            ],
            [
             0.3333333333333333,
             "#9c179e"
            ],
            [
             0.4444444444444444,
             "#bd3786"
            ],
            [
             0.5555555555555556,
             "#d8576b"
            ],
            [
             0.6666666666666666,
             "#ed7953"
            ],
            [
             0.7777777777777778,
             "#fb9f3a"
            ],
            [
             0.8888888888888888,
             "#fdca26"
            ],
            [
             1,
             "#f0f921"
            ]
           ]
          },
          "colorway": [
           "#636efa",
           "#EF553B",
           "#00cc96",
           "#ab63fa",
           "#FFA15A",
           "#19d3f3",
           "#FF6692",
           "#B6E880",
           "#FF97FF",
           "#FECB52"
          ],
          "font": {
           "color": "#2a3f5f"
          },
          "geo": {
           "bgcolor": "white",
           "lakecolor": "white",
           "landcolor": "#E5ECF6",
           "showlakes": true,
           "showland": true,
           "subunitcolor": "white"
          },
          "hoverlabel": {
           "align": "left"
          },
          "hovermode": "closest",
          "mapbox": {
           "style": "light"
          },
          "paper_bgcolor": "white",
          "plot_bgcolor": "#E5ECF6",
          "polar": {
           "angularaxis": {
            "gridcolor": "white",
            "linecolor": "white",
            "ticks": ""
           },
           "bgcolor": "#E5ECF6",
           "radialaxis": {
            "gridcolor": "white",
            "linecolor": "white",
            "ticks": ""
           }
          },
          "scene": {
           "xaxis": {
            "backgroundcolor": "#E5ECF6",
            "gridcolor": "white",
            "gridwidth": 2,
            "linecolor": "white",
            "showbackground": true,
            "ticks": "",
            "zerolinecolor": "white"
           },
           "yaxis": {
            "backgroundcolor": "#E5ECF6",
            "gridcolor": "white",
            "gridwidth": 2,
            "linecolor": "white",
            "showbackground": true,
            "ticks": "",
            "zerolinecolor": "white"
           },
           "zaxis": {
            "backgroundcolor": "#E5ECF6",
            "gridcolor": "white",
            "gridwidth": 2,
            "linecolor": "white",
            "showbackground": true,
            "ticks": "",
            "zerolinecolor": "white"
           }
          },
          "shapedefaults": {
           "line": {
            "color": "#2a3f5f"
           }
          },
          "ternary": {
           "aaxis": {
            "gridcolor": "white",
            "linecolor": "white",
            "ticks": ""
           },
           "baxis": {
            "gridcolor": "white",
            "linecolor": "white",
            "ticks": ""
           },
           "bgcolor": "#E5ECF6",
           "caxis": {
            "gridcolor": "white",
            "linecolor": "white",
            "ticks": ""
           }
          },
          "title": {
           "x": 0.05
          },
          "xaxis": {
           "automargin": true,
           "gridcolor": "white",
           "linecolor": "white",
           "ticks": "",
           "title": {
            "standoff": 15
           },
           "zerolinecolor": "white",
           "zerolinewidth": 2
          },
          "yaxis": {
           "automargin": true,
           "gridcolor": "white",
           "linecolor": "white",
           "ticks": "",
           "title": {
            "standoff": 15
           },
           "zerolinecolor": "white",
           "zerolinewidth": 2
          }
         }
        },
        "xaxis": {
         "anchor": "y",
         "domain": [
          0,
          1
         ],
         "dtick": 60000,
         "showgrid": true,
         "title": {
          "text": "Time"
         },
         "type": "date"
        },
        "yaxis": {
         "anchor": "x",
         "domain": [
          0,
          1
         ],
         "showgrid": true,
         "title": {
          "text": "Trip ID"
         }
        }
       }
      }
     },
     "metadata": {},
     "output_type": "display_data"
    }
   ],
   "source": [
    "import plotly.express as px\n",
    "\n",
    "# timeline\n",
    "fig = px.timeline(\n",
    "    legs_df,\n",
    "    x_start='@origTimeMin',\n",
    "    x_end='@destTimeMin',\n",
    "    y='trip_id',\n",
    "    color='@line',\n",
    "    hover_data=['@origin', '@destination', 'duration_min']\n",
    ")\n",
    "\n",
    "# bar thickness\n",
    "fig.update_traces(width=0.3)\n",
    "\n",
    "for i, row in legs_df.iterrows():\n",
    "    # origin label\n",
    "    fig.add_annotation(\n",
    "        x=row['@origTimeMin'],\n",
    "        y=row['trip_id'],\n",
    "        text=row['@origin'],\n",
    "        showarrow=False,\n",
    "        xanchor='center',\n",
    "        yanchor='middle',\n",
    "        textangle=-90,\n",
    "        font=dict(size=10, color=\"black\")\n",
    "    )\n",
    "    # destination label\n",
    "    fig.add_annotation(\n",
    "        x=row['@destTimeMin'],\n",
    "        y=row['trip_id'],\n",
    "        text=row['@destination'],\n",
    "        showarrow=False,\n",
    "        xanchor='center',\n",
    "        yanchor='middle',\n",
    "        textangle=-90,\n",
    "        font=dict(size=10, color=\"black\")\n",
    "    )\n",
    "\n",
    "# total duration label\n",
    "for trip_id, total_duration in legs_df.groupby('trip_id')['total_duration'].first().items():\n",
    "    \n",
    "    end_time = legs_df.loc[legs_df['trip_id'] == trip_id, '@destTimeMin'].max()\n",
    "    \n",
    "    fig.add_annotation(\n",
    "        x=end_time + pd.Timedelta(minutes=2),\n",
    "        y=trip_id + 0.35,\n",
    "        text=f\"Total Duration: {total_duration:.0f} min\",\n",
    "        showarrow=False,\n",
    "        font=dict(size=10, color=\"black\"),\n",
    "        align=\"left\"\n",
    "    )\n",
    "\n",
    "# gridlines\n",
    "fig.update_xaxes(\n",
    "    title='Time',\n",
    "    showgrid=True,\n",
    "    dtick=1*60*1000\n",
    ")\n",
    "fig.update_yaxes(title='Trip ID', showgrid=True)\n",
    "\n",
    "fig.show()\n"
   ]
  },
  {
   "cell_type": "code",
   "execution_count": null,
   "id": "330e71a3",
   "metadata": {},
   "outputs": [],
   "source": []
  }
 ],
 "metadata": {
  "kernelspec": {
   "display_name": "Python (myenv)",
   "language": "python",
   "name": "myenv"
  },
  "language_info": {
   "codemirror_mode": {
    "name": "ipython",
    "version": 3
   },
   "file_extension": ".py",
   "mimetype": "text/x-python",
   "name": "python",
   "nbconvert_exporter": "python",
   "pygments_lexer": "ipython3",
   "version": "3.12.3"
  }
 },
 "nbformat": 4,
 "nbformat_minor": 5
}
